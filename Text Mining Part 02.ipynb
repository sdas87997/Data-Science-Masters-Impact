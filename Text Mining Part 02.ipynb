{
 "cells": [
  {
   "cell_type": "code",
   "execution_count": 1,
   "id": "73111fb0-ff60-403c-a112-257c6b75517a",
   "metadata": {},
   "outputs": [
    {
     "name": "stdout",
     "output_type": "stream",
     "text": [
      "hello\n"
     ]
    }
   ],
   "source": [
    "print(\"hello\")"
   ]
  },
  {
   "cell_type": "code",
   "execution_count": 2,
   "id": "ee2d1787-ce7b-4481-b897-1670ee2b352a",
   "metadata": {},
   "outputs": [],
   "source": [
    "import numpy as np\n",
    "import pandas as pd\n",
    "import re\n",
    "import string\n",
    "import nltk"
   ]
  },
  {
   "cell_type": "code",
   "execution_count": null,
   "id": "70cd8fe3-f4b0-4bfc-895b-cba01baebfe0",
   "metadata": {},
   "outputs": [],
   "source": []
  },
  {
   "cell_type": "code",
   "execution_count": 3,
   "id": "633c9b49-cd19-4fa4-a237-72a32e78eb9f",
   "metadata": {},
   "outputs": [],
   "source": [
    "dataset_full = pd.read_csv(\"D:/DataFiles/sample.csv\",nrows = 5000)"
   ]
  },
  {
   "cell_type": "code",
   "execution_count": 4,
   "id": "2bcf1217-164a-4f56-833e-9b25e56462d5",
   "metadata": {},
   "outputs": [
    {
     "name": "stdout",
     "output_type": "stream",
     "text": [
      "<class 'pandas.core.frame.DataFrame'>\n",
      "RangeIndex: 93 entries, 0 to 92\n",
      "Data columns (total 7 columns):\n",
      " #   Column                   Non-Null Count  Dtype  \n",
      "---  ------                   --------------  -----  \n",
      " 0   tweet_id                 93 non-null     int64  \n",
      " 1   author_id                93 non-null     object \n",
      " 2   inbound                  93 non-null     bool   \n",
      " 3   created_at               93 non-null     object \n",
      " 4   text                     93 non-null     object \n",
      " 5   response_tweet_id        65 non-null     object \n",
      " 6   in_response_to_tweet_id  68 non-null     float64\n",
      "dtypes: bool(1), float64(1), int64(1), object(4)\n",
      "memory usage: 4.6+ KB\n"
     ]
    }
   ],
   "source": [
    "dataset_full.info()"
   ]
  },
  {
   "cell_type": "code",
   "execution_count": 5,
   "id": "f95a6c18-52bc-4534-9ace-09d003ba44de",
   "metadata": {},
   "outputs": [],
   "source": [
    "dataset_full[\"text\"] =  dataset_full[\"text\"].astype(str)"
   ]
  },
  {
   "cell_type": "code",
   "execution_count": 6,
   "id": "a7e6734c-75d4-436c-825f-c152039a2218",
   "metadata": {},
   "outputs": [
    {
     "data": {
      "text/plain": [
       "0     @AppleSupport causing the reply to be disregar...\n",
       "1     @105835 Your business means a lot to us. Pleas...\n",
       "2     @76328 I really hope you all change but I'm su...\n",
       "3     @105836 LiveChat is online at the moment - htt...\n",
       "4     @VirginTrains see attached error message. I've...\n",
       "                            ...                        \n",
       "88    @105860 I wish Amazon had an option of where I...\n",
       "89    They reschedule my shit for tomorrow https://t...\n",
       "90    @105861 Hey Sara, sorry to hear of the issues ...\n",
       "91    @Tesco bit of both - finding the layout cumber...\n",
       "92    @105861 If that doesn't help please DM your fu...\n",
       "Name: text, Length: 93, dtype: object"
      ]
     },
     "execution_count": 6,
     "metadata": {},
     "output_type": "execute_result"
    }
   ],
   "source": [
    "dataset_full[\"text\"] "
   ]
  },
  {
   "cell_type": "code",
   "execution_count": 7,
   "id": "841d891c-56af-4a2d-b8cc-0fff72e4112e",
   "metadata": {},
   "outputs": [],
   "source": [
    "dataset_full[\"text_smaller\"] =  dataset_full[\"text\"].str.lower() "
   ]
  },
  {
   "cell_type": "code",
   "execution_count": 8,
   "id": "e43a4640-2f75-4f5a-a977-0d54e3d85f1c",
   "metadata": {},
   "outputs": [
    {
     "data": {
      "text/plain": [
       "0     @applesupport causing the reply to be disregar...\n",
       "1     @105835 your business means a lot to us. pleas...\n",
       "2     @76328 i really hope you all change but i'm su...\n",
       "3     @105836 livechat is online at the moment - htt...\n",
       "4     @virgintrains see attached error message. i've...\n",
       "                            ...                        \n",
       "88    @105860 i wish amazon had an option of where i...\n",
       "89    they reschedule my shit for tomorrow https://t...\n",
       "90    @105861 hey sara, sorry to hear of the issues ...\n",
       "91    @tesco bit of both - finding the layout cumber...\n",
       "92    @105861 if that doesn't help please dm your fu...\n",
       "Name: text_smaller, Length: 93, dtype: object"
      ]
     },
     "execution_count": 8,
     "metadata": {},
     "output_type": "execute_result"
    }
   ],
   "source": [
    "dataset_full[\"text_smaller\"] "
   ]
  },
  {
   "cell_type": "code",
   "execution_count": 9,
   "id": "84f8bd0e-c134-49a2-9c12-52087d17302b",
   "metadata": {},
   "outputs": [],
   "source": [
    "dataset_full.drop('text_smaller',axis = 1,inplace = True) "
   ]
  },
  {
   "cell_type": "code",
   "execution_count": 10,
   "id": "648a44f5-71d1-447d-ada6-478a4b4d064e",
   "metadata": {},
   "outputs": [],
   "source": [
    "list_0f_punctuations  =  string.punctuation"
   ]
  },
  {
   "cell_type": "code",
   "execution_count": 11,
   "id": "9eb5739d-ef65-4f70-a333-f763ee71d928",
   "metadata": {},
   "outputs": [
    {
     "data": {
      "text/plain": [
       "'!\"#$%&\\'()*+,-./:;<=>?@[\\\\]^_`{|}~'"
      ]
     },
     "execution_count": 11,
     "metadata": {},
     "output_type": "execute_result"
    }
   ],
   "source": [
    "list_0f_punctuations"
   ]
  },
  {
   "cell_type": "code",
   "execution_count": 12,
   "id": "9f19dde8-4730-4876-85f3-763665a9224f",
   "metadata": {},
   "outputs": [],
   "source": [
    "def remove_punctuation_from_string(text):\n",
    "    return text.translate(str.maketrans('','',list_0f_punctuations))"
   ]
  },
  {
   "cell_type": "code",
   "execution_count": 13,
   "id": "3a29177f-f2f2-48f2-b837-3ece824a6a3e",
   "metadata": {},
   "outputs": [],
   "source": [
    "dataset_full['punctuatyion_removed_text'] =  dataset_full[\"text\"].apply( lambda x : remove_punctuation_from_string(x) )"
   ]
  },
  {
   "cell_type": "code",
   "execution_count": 14,
   "id": "8faadf87-fcc3-4530-b19c-1a7d18565769",
   "metadata": {},
   "outputs": [
    {
     "data": {
      "text/plain": [
       "0     AppleSupport causing the reply to be disregard...\n",
       "1     105835 Your business means a lot to us Please ...\n",
       "2     76328 I really hope you all change but Im sure...\n",
       "3     105836 LiveChat is online at the moment  https...\n",
       "4     VirginTrains see attached error message Ive tr...\n",
       "                            ...                        \n",
       "88    105860 I wish Amazon had an option of where I ...\n",
       "89    They reschedule my shit for tomorrow httpstcoR...\n",
       "90    105861 Hey Sara sorry to hear of the issues yo...\n",
       "91    Tesco bit of both  finding the layout cumberso...\n",
       "92    105861 If that doesnt help please DM your full...\n",
       "Name: punctuatyion_removed_text, Length: 93, dtype: object"
      ]
     },
     "execution_count": 14,
     "metadata": {},
     "output_type": "execute_result"
    }
   ],
   "source": [
    "dataset_full['punctuatyion_removed_text']"
   ]
  },
  {
   "cell_type": "code",
   "execution_count": 16,
   "id": "1f027686-1224-45b5-9bdb-ff1d4d3771c1",
   "metadata": {},
   "outputs": [],
   "source": [
    "from nltk.corpus import stopwords"
   ]
  },
  {
   "cell_type": "code",
   "execution_count": 17,
   "id": "5999c768-820b-4e4b-9e32-621fb3f3f647",
   "metadata": {},
   "outputs": [
    {
     "name": "stderr",
     "output_type": "stream",
     "text": [
      "[nltk_data] Downloading package stopwords to\n",
      "[nltk_data]     C:\\Users\\sdas8\\AppData\\Roaming\\nltk_data...\n",
      "[nltk_data]   Package stopwords is already up-to-date!\n"
     ]
    },
    {
     "data": {
      "text/plain": [
       "True"
      ]
     },
     "execution_count": 17,
     "metadata": {},
     "output_type": "execute_result"
    }
   ],
   "source": [
    "nltk.download('stopwords')"
   ]
  },
  {
   "cell_type": "code",
   "execution_count": 18,
   "id": "9d36c763-8b04-45cb-9155-6780148ef578",
   "metadata": {},
   "outputs": [
    {
     "data": {
      "text/plain": [
       "\"i, me, my, myself, we, our, ours, ourselves, you, you're, you've, you'll, you'd, your, yours, yourself, yourselves, he, him, his, himself, she, she's, her, hers, herself, it, it's, its, itself, they, them, their, theirs, themselves, what, which, who, whom, this, that, that'll, these, those, am, is, are, was, were, be, been, being, have, has, had, having, do, does, did, doing, a, an, the, and, but, if, or, because, as, until, while, of, at, by, for, with, about, against, between, into, through, during, before, after, above, below, to, from, up, down, in, out, on, off, over, under, again, further, then, once, here, there, when, where, why, how, all, any, both, each, few, more, most, other, some, such, no, nor, not, only, own, same, so, than, too, very, s, t, can, will, just, don, don't, should, should've, now, d, ll, m, o, re, ve, y, ain, aren, aren't, couldn, couldn't, didn, didn't, doesn, doesn't, hadn, hadn't, hasn, hasn't, haven, haven't, isn, isn't, ma, mightn, mightn't, mustn, mustn't, needn, needn't, shan, shan't, shouldn, shouldn't, wasn, wasn't, weren, weren't, won, won't, wouldn, wouldn't\""
      ]
     },
     "execution_count": 18,
     "metadata": {},
     "output_type": "execute_result"
    }
   ],
   "source": [
    "\", \".join(stopwords.words(\"English\"))"
   ]
  },
  {
   "cell_type": "code",
   "execution_count": 19,
   "id": "c2a3c659-506b-4206-b291-a78144381f41",
   "metadata": {},
   "outputs": [],
   "source": [
    "final_stopwoirds = set(stopwords.words(\"english\"))"
   ]
  },
  {
   "cell_type": "code",
   "execution_count": 21,
   "id": "8af8981c-bb2f-477b-ba68-2506657c3f4c",
   "metadata": {},
   "outputs": [],
   "source": [
    "text = \"a about above supriyo sharmistha \""
   ]
  },
  {
   "cell_type": "code",
   "execution_count": 24,
   "id": "debe6787-2d93-4bfe-a98a-54c0239c6318",
   "metadata": {},
   "outputs": [
    {
     "data": {
      "text/plain": [
       "'supriyo sharmistha'"
      ]
     },
     "execution_count": 24,
     "metadata": {},
     "output_type": "execute_result"
    }
   ],
   "source": [
    "\" \" .join([word for word in str(text).split() if word not in final_stopwoirds])"
   ]
  },
  {
   "cell_type": "code",
   "execution_count": 25,
   "id": "08cead1a-89bb-4f86-9d7b-97f6b5f0edeb",
   "metadata": {},
   "outputs": [
    {
     "data": {
      "text/plain": [
       "['a', 'about', 'above', 'supriyo', 'sharmistha']"
      ]
     },
     "execution_count": 25,
     "metadata": {},
     "output_type": "execute_result"
    }
   ],
   "source": [
    "[word for word in str(text).split()]"
   ]
  },
  {
   "cell_type": "code",
   "execution_count": 26,
   "id": "9cf8bcd9-0698-43fb-b2cc-8ca473552c1f",
   "metadata": {},
   "outputs": [],
   "source": [
    "def remove_english_stopwords(text):\n",
    "    return \" \".join([word for word in str(text).split() if word not in final_stopwoirds ])"
   ]
  },
  {
   "cell_type": "code",
   "execution_count": 27,
   "id": "98c1948d-5ffc-4e3e-b04f-300089802e89",
   "metadata": {},
   "outputs": [],
   "source": [
    "dataset_full['punctuation_and_stopword_removed_text'] =  dataset_full['punctuatyion_removed_text'].apply(lambda x :remove_english_stopwords(x)  )"
   ]
  },
  {
   "cell_type": "code",
   "execution_count": 28,
   "id": "b06e1081-87ff-4232-9356-521910e11cf9",
   "metadata": {},
   "outputs": [
    {
     "data": {
      "text/plain": [
       "0     AppleSupport causing reply disregarded tapped ...\n",
       "1     105835 Your business means lot us Please DM na...\n",
       "2     76328 I really hope change Im sure wont Becaus...\n",
       "3     105836 LiveChat online moment httpstcoSY94VtU8...\n",
       "4     VirginTrains see attached error message Ive tr...\n",
       "                            ...                        \n",
       "88    105860 I wish Amazon option I get shipped ups ...\n",
       "89     They reschedule shit tomorrow httpstcoRsvZcT982t\n",
       "90    105861 Hey Sara sorry hear issues I ask lay sp...\n",
       "91    Tesco bit finding layout cumbersome removing i...\n",
       "92    105861 If doesnt help please DM full name addr...\n",
       "Name: punctuation_and_stopword_removed_text, Length: 93, dtype: object"
      ]
     },
     "execution_count": 28,
     "metadata": {},
     "output_type": "execute_result"
    }
   ],
   "source": [
    "dataset_full['punctuation_and_stopword_removed_text']"
   ]
  },
  {
   "cell_type": "code",
   "execution_count": 30,
   "id": "b77f87e4-8519-4843-9b9d-54c0a68e10d3",
   "metadata": {},
   "outputs": [],
   "source": [
    "dataset_full['punctuation_and_stopword_removed_text_lower'] =  dataset_full['punctuatyion_removed_text'].str.lower().apply(lambda x :remove_english_stopwords(x)  )"
   ]
  },
  {
   "cell_type": "code",
   "execution_count": 31,
   "id": "11e62cb9-b35e-4c96-9e6b-2a71fd8ad3ad",
   "metadata": {},
   "outputs": [
    {
     "data": {
      "text/plain": [
       "0     applesupport causing reply disregarded tapped ...\n",
       "1     105835 business means lot us please dm name zi...\n",
       "2            76328 really hope change im sure wont dont\n",
       "3     105836 livechat online moment httpstcosy94vtu8...\n",
       "4     virgintrains see attached error message ive tr...\n",
       "                            ...                        \n",
       "88    105860 wish amazon option get shipped ups stor...\n",
       "89          reschedule shit tomorrow httpstcorsvzct982t\n",
       "90    105861 hey sara sorry hear issues ask lay spee...\n",
       "91    tesco bit finding layout cumbersome removing i...\n",
       "92    105861 doesnt help please dm full name address...\n",
       "Name: punctuation_and_stopword_removed_text_lower, Length: 93, dtype: object"
      ]
     },
     "execution_count": 31,
     "metadata": {},
     "output_type": "execute_result"
    }
   ],
   "source": [
    "dataset_full['punctuation_and_stopword_removed_text_lower'] "
   ]
  },
  {
   "cell_type": "code",
   "execution_count": 32,
   "id": "b9989b62-aecc-43f1-96a9-7c2f289f4204",
   "metadata": {},
   "outputs": [],
   "source": [
    "from  collections import Counter"
   ]
  },
  {
   "cell_type": "code",
   "execution_count": 33,
   "id": "412da8d0-91c1-4ccc-8f75-ea9937bf5250",
   "metadata": {},
   "outputs": [],
   "source": [
    "cnt = Counter()"
   ]
  },
  {
   "cell_type": "code",
   "execution_count": 34,
   "id": "8224d56d-9c93-46e0-a91f-f4993047e473",
   "metadata": {},
   "outputs": [],
   "source": [
    "for sentence in dataset_full['punctuation_and_stopword_removed_text_lower'].values:\n",
    "    for word in sentence.split():\n",
    "        cnt[word] += 1"
   ]
  },
  {
   "cell_type": "code",
   "execution_count": 35,
   "id": "e2fd7c58-5224-4b7d-b0f3-0625e3e8cff4",
   "metadata": {},
   "outputs": [
    {
     "data": {
      "text/plain": [
       "[('us', 25),\n",
       " ('dm', 19),\n",
       " ('help', 18),\n",
       " ('thanks', 13),\n",
       " ('httpstcogdrqu22ypt', 12),\n",
       " ('applesupport', 11),\n",
       " ('please', 11),\n",
       " ('phone', 9),\n",
       " ('hi', 9),\n",
       " ('ive', 8)]"
      ]
     },
     "execution_count": 35,
     "metadata": {},
     "output_type": "execute_result"
    }
   ],
   "source": [
    "cnt.most_common(10)"
   ]
  },
  {
   "cell_type": "code",
   "execution_count": 36,
   "id": "5dc22a06-7258-4398-890b-e16e8b383e14",
   "metadata": {},
   "outputs": [
    {
     "data": {
      "text/plain": [
       "['us',\n",
       " 'dm',\n",
       " 'help',\n",
       " 'thanks',\n",
       " 'httpstcogdrqu22ypt',\n",
       " 'applesupport',\n",
       " 'please',\n",
       " 'phone',\n",
       " 'hi',\n",
       " 'ive']"
      ]
     },
     "execution_count": 36,
     "metadata": {},
     "output_type": "execute_result"
    }
   ],
   "source": [
    "[w for (w,wc) in cnt.most_common(10)]"
   ]
  },
  {
   "cell_type": "code",
   "execution_count": 37,
   "id": "fb18bc01-7ea4-434d-b6c2-ff50724d01be",
   "metadata": {},
   "outputs": [],
   "source": [
    "frequent_word_set  = set([w for (w,wc) in cnt.most_common(10) ])"
   ]
  },
  {
   "cell_type": "code",
   "execution_count": 57,
   "id": "a72161f0-454c-4b77-865b-cf47398eabfa",
   "metadata": {},
   "outputs": [
    {
     "data": {
      "text/plain": [
       "{'applesupport',\n",
       " 'dm',\n",
       " 'help',\n",
       " 'hi',\n",
       " 'httpstcogdrqu22ypt',\n",
       " 'ive',\n",
       " 'phone',\n",
       " 'please',\n",
       " 'thanks',\n",
       " 'us'}"
      ]
     },
     "execution_count": 57,
     "metadata": {},
     "output_type": "execute_result"
    }
   ],
   "source": [
    "frequent_word_set"
   ]
  },
  {
   "cell_type": "code",
   "execution_count": 38,
   "id": "d545a7b2-b44e-4383-905b-f793e43f3808",
   "metadata": {},
   "outputs": [],
   "source": [
    "def delete_mostfrequentword(text):\n",
    "    return \" \".join([word for word in str(text).split() if word not in frequent_word_set  ])"
   ]
  },
  {
   "cell_type": "code",
   "execution_count": 39,
   "id": "949b9a11-bd06-44bf-98b2-5dd4652dc5d4",
   "metadata": {},
   "outputs": [],
   "source": [
    "dataset_full['punctuation_and_stopword_freqw_removed_text_lower'] = dataset_full['punctuation_and_stopword_removed_text_lower'].apply(lambda x : delete_mostfrequentword(x))"
   ]
  },
  {
   "cell_type": "code",
   "execution_count": 40,
   "id": "ab1357c9-10b1-499b-bed1-796046f30f0b",
   "metadata": {},
   "outputs": [
    {
     "data": {
      "text/plain": [
       "0     causing reply disregarded tapped notification ...\n",
       "1     105835 business means lot name zip code additi...\n",
       "2            76328 really hope change im sure wont dont\n",
       "3     105836 livechat online moment httpstcosy94vtu8...\n",
       "4     virgintrains see attached error message tried ...\n",
       "                            ...                        \n",
       "88    105860 wish amazon option get shipped ups stor...\n",
       "89          reschedule shit tomorrow httpstcorsvzct982t\n",
       "90    105861 hey sara sorry hear issues ask lay spee...\n",
       "91    tesco bit finding layout cumbersome removing i...\n",
       "92    105861 doesnt full name address email includin...\n",
       "Name: punctuation_and_stopword_freqw_removed_text_lower, Length: 93, dtype: object"
      ]
     },
     "execution_count": 40,
     "metadata": {},
     "output_type": "execute_result"
    }
   ],
   "source": [
    "dataset_full['punctuation_and_stopword_freqw_removed_text_lower']"
   ]
  },
  {
   "cell_type": "markdown",
   "id": "3281e7ca-a75f-4831-b7d9-2906ad9deab5",
   "metadata": {},
   "source": [
    "---------Removal of most rare words ---------------"
   ]
  },
  {
   "cell_type": "code",
   "execution_count": 41,
   "id": "138d38d5-db57-4c49-b020-d3048c87bf57",
   "metadata": {},
   "outputs": [],
   "source": [
    "from collections import Counter"
   ]
  },
  {
   "cell_type": "code",
   "execution_count": 42,
   "id": "d3f0a25a-8595-4593-8257-2086e06de185",
   "metadata": {},
   "outputs": [],
   "source": [
    "cnt  =  Counter()"
   ]
  },
  {
   "cell_type": "code",
   "execution_count": 43,
   "id": "898326ce-6119-4a76-82a6-ecb267a4bc9a",
   "metadata": {},
   "outputs": [],
   "source": [
    "for sentence in dataset_full['punctuation_and_stopword_freqw_removed_text_lower'].values:\n",
    "    for word in str(sentence).split():\n",
    "        cnt[word] +=1"
   ]
  },
  {
   "cell_type": "code",
   "execution_count": 44,
   "id": "b67d9480-69e1-484a-9033-0c4aa4bcefca",
   "metadata": {},
   "outputs": [
    {
     "data": {
      "text/plain": [
       "[('lee', 1),\n",
       " ('log', 1),\n",
       " ('browser', 1),\n",
       " ('including', 1),\n",
       " ('httpstco9281okeebk', 1),\n",
       " ('line', 1),\n",
       " ('green', 1),\n",
       " ('thin', 1),\n",
       " ('keen', 1),\n",
       " ('slowdown', 1)]"
      ]
     },
     "execution_count": 44,
     "metadata": {},
     "output_type": "execute_result"
    }
   ],
   "source": [
    "cnt.most_common()[-1:-11 : -1] # 10 most rare words"
   ]
  },
  {
   "cell_type": "code",
   "execution_count": 45,
   "id": "3391b737-07dd-4617-804e-ab02b5871391",
   "metadata": {},
   "outputs": [
    {
     "data": {
      "text/plain": [
       "[('causing', 1),\n",
       " ('disregarded', 1),\n",
       " ('tapped', 1),\n",
       " ('notification', 1),\n",
       " ('keyboard', 1),\n",
       " ('opened😡😡😡', 1),\n",
       " ('105835', 1),\n",
       " ('business', 1),\n",
       " ('zip', 1),\n",
       " ('additional', 1),\n",
       " ('details', 1),\n",
       " ('rr', 1),\n",
       " ('httpstcoznuu1vjn9r', 1),\n",
       " ('76328', 1),\n",
       " ('really', 1),\n",
       " ('change', 1),\n",
       " ('livechat', 1),\n",
       " ('online', 1),\n",
       " ('httpstcosy94vtu8kq', 1),\n",
       " ('contact', 1),\n",
       " ('03331', 1),\n",
       " ('leave', 1),\n",
       " ('request', 1),\n",
       " ('attached', 1),\n",
       " ('error', 1),\n",
       " ('leaving', 1),\n",
       " ('voicemail', 1),\n",
       " ('httpstconxvzjlyx1k', 1),\n",
       " ('another', 1),\n",
       " ('yep', 1),\n",
       " ('laptop', 1),\n",
       " ('different', 1),\n",
       " ('browsers', 1),\n",
       " ('ok', 1),\n",
       " ('httpstco0m2mph15eh', 1),\n",
       " ('havent', 1),\n",
       " ('heard', 1),\n",
       " ('directed', 1),\n",
       " ('dead', 1),\n",
       " ('end', 1),\n",
       " ('live', 1),\n",
       " ('chat', 1),\n",
       " ('work', 1),\n",
       " ('team', 1),\n",
       " ('shortly', 1),\n",
       " ('hp', 1),\n",
       " ('105837', 1),\n",
       " ('settings', 1),\n",
       " ('general', 1),\n",
       " ('105838', 1),\n",
       " ('suffering', 1),\n",
       " ('i’ve', 1),\n",
       " ('slow', 1),\n",
       " ('iphone6', 1),\n",
       " ('105839', 1),\n",
       " ('suddenly', 1),\n",
       " ('takes', 1),\n",
       " ('ages', 1),\n",
       " ('wtf', 1),\n",
       " ('sux', 1),\n",
       " ('hate', 1),\n",
       " ('bye', 1),\n",
       " ('also', 1),\n",
       " ('versions', 1),\n",
       " ('thatd', 1),\n",
       " ('8422857', 1),\n",
       " ('armv7', 1),\n",
       " ('anker', 1),\n",
       " ('samsung', 1),\n",
       " ('galaxy', 1),\n",
       " ('tab', 1),\n",
       " ('2016', 1),\n",
       " ('smt280', 1),\n",
       " ('possibly', 1),\n",
       " ('affect', 1),\n",
       " ('make', 1),\n",
       " ('moved', 1),\n",
       " ('metre', 1),\n",
       " ('mo', 1),\n",
       " ('metres', 1),\n",
       " ('fingers', 1),\n",
       " ('crossed', 1),\n",
       " ('comes', 1),\n",
       " ('carry', 1),\n",
       " ('helping', 1),\n",
       " ('🙂', 1),\n",
       " ('brilliant', 1),\n",
       " ('welcome', 1),\n",
       " ('theres', 1),\n",
       " ('else', 1),\n",
       " ('give', 1),\n",
       " ('shout', 1),\n",
       " ('😉', 1),\n",
       " ('cp', 1),\n",
       " ('76495', 1),\n",
       " ('91226', 1),\n",
       " ('premium', 1),\n",
       " ('constantly', 1),\n",
       " ('tablet', 1),\n",
       " ('105841', 1),\n",
       " ('youve', 1),\n",
       " ('behaviors', 1),\n",
       " ('1102', 1),\n",
       " ('sucks', 1),\n",
       " ('wifi', 1),\n",
       " ('disconnects', 1),\n",
       " ('ios1102', 1),\n",
       " ('painfulupdate', 1),\n",
       " ('delayed', 1),\n",
       " ('beatner', 1),\n",
       " ('travelling', 1),\n",
       " ('ba8733', 1),\n",
       " ('departure', 1),\n",
       " ('first', 1),\n",
       " ('1h', 1),\n",
       " ('short', 1),\n",
       " ('jump', 1),\n",
       " ('fralcy', 1),\n",
       " ('status', 1),\n",
       " ('updates', 1),\n",
       " ('105843', 1),\n",
       " ('important', 1),\n",
       " ('okay', 1),\n",
       " ('drains', 1),\n",
       " ('8', 1),\n",
       " ('percent', 1),\n",
       " ('7plus', 1),\n",
       " ('runs', 1),\n",
       " ('half', 1),\n",
       " ('crash', 1),\n",
       " ('you’ve', 1),\n",
       " ('paralysed', 1),\n",
       " ('grrrrrrrrrr', 1),\n",
       " ('82476', 1),\n",
       " ('🤔', 1),\n",
       " ('sam', 1),\n",
       " ('calling', 1),\n",
       " ('info', 1),\n",
       " ('advise', 1),\n",
       " ('httpstco5pyldjbc6r', 1),\n",
       " ('o2', 1),\n",
       " ('received', 1),\n",
       " ('ago', 1),\n",
       " ('23', 1),\n",
       " ('calls', 1),\n",
       " ('day', 1),\n",
       " ('telemarketer', 1),\n",
       " ('httpstcogltz4xhcex', 1),\n",
       " ('105845', 1),\n",
       " ('frustrating', 1),\n",
       " ('information', 1),\n",
       " ('ad', 1),\n",
       " ('internet', 1),\n",
       " ('xfinity', 1),\n",
       " ('talkin', 1),\n",
       " ('2472', 1),\n",
       " ('y’all', 1),\n",
       " ('game', 1),\n",
       " ('messed', 1),\n",
       " ('77245', 1),\n",
       " ('105676', 1),\n",
       " ('frustrated', 1),\n",
       " ('situation', 1),\n",
       " ('follow', 1),\n",
       " ('sending', 1),\n",
       " ('cares', 1),\n",
       " ('76803', 1),\n",
       " ('last', 1),\n",
       " ('40', 1),\n",
       " ('min', 1),\n",
       " ('refund', 1),\n",
       " ('httpstcowypw9hp6wt', 1),\n",
       " ('105846', 1),\n",
       " ('use', 1),\n",
       " ('pause', 1),\n",
       " ('harry', 1),\n",
       " ('check', 1),\n",
       " ('makes', 1),\n",
       " ('posted', 1),\n",
       " ('stage', 1),\n",
       " ('cheers', 1),\n",
       " ('thing', 1),\n",
       " ('eye', 1),\n",
       " ('come', 1),\n",
       " ('bug', 1),\n",
       " ('giving', 1),\n",
       " ('nudge', 1),\n",
       " ('operating', 1),\n",
       " ('system', 1),\n",
       " ('macbook', 1),\n",
       " ('air', 1),\n",
       " ('early', 1),\n",
       " ('2014', 1),\n",
       " ('high', 1),\n",
       " ('sierra', 1),\n",
       " ('1065320gac7a8e02', 1),\n",
       " ('httpstcoeqisdmwzat', 1),\n",
       " ('plays', 1),\n",
       " ('stopping', 1),\n",
       " ('midway', 1),\n",
       " ('restart', 1),\n",
       " ('unless', 1),\n",
       " ('close', 1),\n",
       " ('reopen', 1),\n",
       " ('105848', 1),\n",
       " ('lets', 1),\n",
       " ('specific', 1),\n",
       " ('noticing', 1),\n",
       " ('😡😡', 1),\n",
       " ('read', 1),\n",
       " ('page', 1),\n",
       " ('turned', 1),\n",
       " ('virtually', 1),\n",
       " ('location', 1),\n",
       " ('svs', 1),\n",
       " ('typing', 1),\n",
       " ('dropped', 1),\n",
       " ('super', 1),\n",
       " ('solved', 1),\n",
       " ('😀', 1),\n",
       " ('ios11update', 1),\n",
       " ('killing', 1),\n",
       " ('within', 1),\n",
       " ('10', 1),\n",
       " ('months', 1),\n",
       " ('disgrace', 1),\n",
       " ('days', 1),\n",
       " ('105849', 1),\n",
       " ('took', 1),\n",
       " ('charge', 1),\n",
       " ('720am', 1),\n",
       " ('803am', 1),\n",
       " ('60', 1),\n",
       " ('remaining', 1),\n",
       " ('plz', 1),\n",
       " ('beg', 1),\n",
       " ('sort', 1),\n",
       " ('out😩', 1),\n",
       " ('105850', 1),\n",
       " ('hit', 1),\n",
       " ('even', 1),\n",
       " ('receive', 1),\n",
       " ('congrats', 1),\n",
       " ('almost', 1),\n",
       " ('thank', 1),\n",
       " ('curiouswill', 1),\n",
       " ('companion', 1),\n",
       " ('pass', 1),\n",
       " ('enough', 1),\n",
       " ('wait', 1),\n",
       " ('105851', 1),\n",
       " ('tell', 1),\n",
       " ('need', 1),\n",
       " ('istore', 1),\n",
       " ('haven’t', 1),\n",
       " ('recd', 1),\n",
       " ('msg', 1),\n",
       " ('many', 1),\n",
       " ('sent', 1),\n",
       " ('105852', 1),\n",
       " ('whats', 1),\n",
       " ('going', 1),\n",
       " ('horrible', 1),\n",
       " ('appreciate', 1),\n",
       " ('hopefully', 1),\n",
       " ('soon', 1),\n",
       " ('inconvenience', 1),\n",
       " ('caused', 1),\n",
       " ('jr', 1),\n",
       " ('response', 1),\n",
       " ('onsite', 1),\n",
       " ('aircraft', 1),\n",
       " ('rebooking', 1),\n",
       " ('105853', 1),\n",
       " ('4h', 1),\n",
       " ('sorted', 1),\n",
       " ('regards', 1),\n",
       " ('jools', 1),\n",
       " ('105854', 1),\n",
       " ('poor', 1),\n",
       " ('ass', 1),\n",
       " ('httpstcojezhqgdbmd', 1),\n",
       " ('askspectrum', 1),\n",
       " ('yard', 1),\n",
       " ('45', 1),\n",
       " ('6', 1),\n",
       " ('customer', 1),\n",
       " ('pretty', 1),\n",
       " ('tempting', 1),\n",
       " ('coaxial', 1),\n",
       " ('76501', 1),\n",
       " ('guess', 1),\n",
       " ('free', 1),\n",
       " ('cable', 1),\n",
       " ('neighborhood', 1),\n",
       " ('httpstcofbgee9yxpm', 1),\n",
       " ('colleague', 1),\n",
       " ('believes', 1),\n",
       " ('alcohol', 1),\n",
       " ('looks', 1),\n",
       " ('challenged', 1),\n",
       " ('prove', 1),\n",
       " ('theyre', 1),\n",
       " ('paige', 1),\n",
       " ('maybe', 1),\n",
       " ('hire', 1),\n",
       " ('point', 1),\n",
       " ('enforced', 1),\n",
       " ('properly', 1),\n",
       " ('plus', 1),\n",
       " ('commonsense', 1),\n",
       " ('correct', 1),\n",
       " ('judge', 1),\n",
       " ('protect', 1),\n",
       " ('making', 1),\n",
       " ('underage', 1),\n",
       " ('sales', 1),\n",
       " ('amanda', 1),\n",
       " ('uk', 1),\n",
       " ('offlicense', 1),\n",
       " ('law', 1),\n",
       " ('operate', 1),\n",
       " ('policy', 1),\n",
       " ('stores', 1),\n",
       " ('flattered', 1),\n",
       " ('idd', 1),\n",
       " ('helena', 1),\n",
       " ('ids', 1),\n",
       " ('adnams', 1),\n",
       " ('broadside', 1),\n",
       " ('blind', 1),\n",
       " ('part', 1),\n",
       " ('jobspec', 1),\n",
       " ('35', 1),\n",
       " ('99', 1),\n",
       " ('kilos', 1),\n",
       " ('reinstalling', 1),\n",
       " ('dani', 1),\n",
       " ('lose', 1),\n",
       " ('shopping', 1),\n",
       " ('delete', 1),\n",
       " ('cachecookies', 1),\n",
       " ('sign', 1),\n",
       " ('prior', 1),\n",
       " ('basket', 1),\n",
       " ('whatsoever', 1),\n",
       " ('websites', 1),\n",
       " ('next', 1),\n",
       " ('slightly', 1),\n",
       " ('unlikely', 1),\n",
       " ('particular', 1),\n",
       " ('cause', 1),\n",
       " ('others', 1),\n",
       " ('join', 1),\n",
       " ('started', 1),\n",
       " ('currently', 1),\n",
       " ('stop', 1),\n",
       " ('without', 1),\n",
       " ('warning', 1),\n",
       " ('freezes', 1),\n",
       " ('every', 1),\n",
       " ('five', 1),\n",
       " ('105858', 1),\n",
       " ('agoura', 1),\n",
       " ('tweeting', 1),\n",
       " ('refer', 1),\n",
       " ('article', 1),\n",
       " ('httpstcobssgjzartc', 1),\n",
       " ('click', 1),\n",
       " ('rashmi', 1),\n",
       " ('httpstcoa2xkfcrug1', 1),\n",
       " ('hpsupport', 1),\n",
       " ('printhead', 1),\n",
       " ('serial', 1),\n",
       " ('th536d1hn', 1),\n",
       " ('hpcswus', 1),\n",
       " ('hpprnt', 1),\n",
       " ('105859', 1),\n",
       " ('choice', 1),\n",
       " ('allow', 1),\n",
       " ('packages', 1),\n",
       " ('delivered', 1),\n",
       " ('ml', 1),\n",
       " ('httpstcobpzkndqww1', 1),\n",
       " ('httpstcowkjhdxwgrq', 1),\n",
       " ('105860', 1),\n",
       " ('wish', 1),\n",
       " ('amazon', 1),\n",
       " ('shipped', 1),\n",
       " ('avoid', 1),\n",
       " ('struggle', 1),\n",
       " ('reschedule', 1),\n",
       " ('shit', 1),\n",
       " ('tomorrow', 1),\n",
       " ('httpstcorsvzct982t', 1),\n",
       " ('sara', 1),\n",
       " ('ask', 1),\n",
       " ('lay', 1),\n",
       " ('speed', 1),\n",
       " ('website', 1),\n",
       " ('responding', 1),\n",
       " ('ty', 1),\n",
       " ('chris', 1),\n",
       " ('bit', 1),\n",
       " ('finding', 1),\n",
       " ('layout', 1),\n",
       " ('cumbersome', 1),\n",
       " ('removing', 1),\n",
       " ('item', 1),\n",
       " ('faves', 1),\n",
       " ('huge', 1),\n",
       " ('slowdown', 1),\n",
       " ('keen', 1),\n",
       " ('thin', 1),\n",
       " ('green', 1),\n",
       " ('line', 1),\n",
       " ('httpstco9281okeebk', 1),\n",
       " ('including', 1),\n",
       " ('browser', 1),\n",
       " ('log', 1),\n",
       " ('lee', 1)]"
      ]
     },
     "execution_count": 45,
     "metadata": {},
     "output_type": "execute_result"
    }
   ],
   "source": [
    "[(w,wc) for (w,wc) in cnt.most_common() if wc == 1 ]"
   ]
  },
  {
   "cell_type": "markdown",
   "id": "fce3e2ef-d522-4771-ab2b-d437c2f514b3",
   "metadata": {},
   "source": [
    "###----------Stemming------------"
   ]
  },
  {
   "cell_type": "code",
   "execution_count": 48,
   "id": "9cd7fda9-3149-407e-a599-3d8fd542332e",
   "metadata": {},
   "outputs": [],
   "source": [
    "from nltk.stem.snowball import SnowballStemmer"
   ]
  },
  {
   "cell_type": "code",
   "execution_count": 49,
   "id": "c3fcef32-f308-4a46-b125-3b3d1bd86ba6",
   "metadata": {},
   "outputs": [
    {
     "data": {
      "text/plain": [
       "('arabic',\n",
       " 'danish',\n",
       " 'dutch',\n",
       " 'english',\n",
       " 'finnish',\n",
       " 'french',\n",
       " 'german',\n",
       " 'hungarian',\n",
       " 'italian',\n",
       " 'norwegian',\n",
       " 'porter',\n",
       " 'portuguese',\n",
       " 'romanian',\n",
       " 'russian',\n",
       " 'spanish',\n",
       " 'swedish')"
      ]
     },
     "execution_count": 49,
     "metadata": {},
     "output_type": "execute_result"
    }
   ],
   "source": [
    "SnowballStemmer.languages"
   ]
  },
  {
   "cell_type": "code",
   "execution_count": 55,
   "id": "ac66d29f-f0af-478f-a9cf-3e5daf6496ad",
   "metadata": {},
   "outputs": [],
   "source": [
    "from nltk.stem.porter import PorterStemmer"
   ]
  },
  {
   "cell_type": "code",
   "execution_count": 56,
   "id": "609e73eb-00b7-4ae4-8fec-08ad5829578e",
   "metadata": {},
   "outputs": [],
   "source": [
    "stemmer =  PorterStemmer()"
   ]
  },
  {
   "cell_type": "code",
   "execution_count": 57,
   "id": "4fa069c1-2da1-4ee6-841d-1453290e4857",
   "metadata": {},
   "outputs": [],
   "source": [
    "def reduce_to_stem(text):\n",
    "    return \" \".join([stemmer.stem(word) for word in str(text).split()])"
   ]
  },
  {
   "cell_type": "code",
   "execution_count": 58,
   "id": "787921b3-509c-4011-8e58-dca7b642bf92",
   "metadata": {},
   "outputs": [],
   "source": [
    "dataset_full['text_stemmed'] = dataset_full['text'].apply(lambda x: reduce_to_stem(x))"
   ]
  },
  {
   "cell_type": "code",
   "execution_count": 87,
   "id": "93762d1d-1b3e-4069-8226-f8312fcaf208",
   "metadata": {},
   "outputs": [
    {
     "data": {
      "text/plain": [
       "0     @applesupport caus the repli to be disregard a...\n",
       "1     @105835 your busi mean a lot to us. pleas dm y...\n",
       "2     @76328 i realli hope you all chang but i'm sur...\n",
       "3     @105836 livechat is onlin at the moment - http...\n",
       "4     @virgintrain see attach error message. i'v tri...\n",
       "                            ...                        \n",
       "88    @105860 i wish amazon had an option of where i...\n",
       "89    they reschedul my shit for tomorrow https://t....\n",
       "90    @105861 hey sara, sorri to hear of the issu yo...\n",
       "91    @tesco bit of both - find the layout cumbersom...\n",
       "92    @105861 if that doesn't help pleas dm your ful...\n",
       "Name: text_stemmed, Length: 93, dtype: object"
      ]
     },
     "execution_count": 87,
     "metadata": {},
     "output_type": "execute_result"
    }
   ],
   "source": [
    "dataset_full['text_stemmed']"
   ]
  },
  {
   "cell_type": "markdown",
   "id": "6be62b43-faa4-4475-a3e2-ee54952c37eb",
   "metadata": {},
   "source": [
    "### H1 ----- Lemmatization--------------"
   ]
  },
  {
   "cell_type": "code",
   "execution_count": 60,
   "id": "e79f6fd2-5166-448a-b4d9-5612c793824c",
   "metadata": {},
   "outputs": [],
   "source": [
    "from nltk.stem import WordNetLemmatizer"
   ]
  },
  {
   "cell_type": "code",
   "execution_count": 61,
   "id": "89be7688-ca88-45a0-aefa-016c818f0c39",
   "metadata": {},
   "outputs": [],
   "source": [
    "lemma_obj = WordNetLemmatizer()"
   ]
  },
  {
   "cell_type": "code",
   "execution_count": 62,
   "id": "cb581b6d-7452-4377-b86e-3fbaaab9a22c",
   "metadata": {},
   "outputs": [
    {
     "data": {
      "text/plain": [
       "'ask'"
      ]
     },
     "execution_count": 62,
     "metadata": {},
     "output_type": "execute_result"
    }
   ],
   "source": [
    "lemma_obj.lemmatize(\"asking\",'v')"
   ]
  },
  {
   "cell_type": "code",
   "execution_count": 63,
   "id": "155c4d42-b4d7-40e1-87e0-d031838d5059",
   "metadata": {},
   "outputs": [],
   "source": [
    "def lemaatize_text(text):\n",
    "    return \" \".join([lemma_obj.lemmatize(word) for word in str(text).split() ])"
   ]
  },
  {
   "cell_type": "code",
   "execution_count": 64,
   "id": "32d61c38-92b6-4c64-9b2c-0941981e0537",
   "metadata": {},
   "outputs": [],
   "source": [
    "dataset_full['text_lemmatized'] =  dataset_full[\"text\"].apply(lambda x : lemaatize_text(x)  )"
   ]
  },
  {
   "cell_type": "code",
   "execution_count": 65,
   "id": "5109c016-a935-4947-a52d-1527902042ea",
   "metadata": {},
   "outputs": [
    {
     "data": {
      "text/plain": [
       "0     @AppleSupport causing the reply to be disregar...\n",
       "1     @105835 Your business mean a lot to us. Please...\n",
       "2     @76328 I really hope you all change but I'm su...\n",
       "3     @105836 LiveChat is online at the moment - htt...\n",
       "4     @VirginTrains see attached error message. I've...\n",
       "                            ...                        \n",
       "88    @105860 I wish Amazon had an option of where I...\n",
       "89    They reschedule my shit for tomorrow https://t...\n",
       "90    @105861 Hey Sara, sorry to hear of the issue y...\n",
       "91    @Tesco bit of both - finding the layout cumber...\n",
       "92    @105861 If that doesn't help please DM your fu...\n",
       "Name: text_lemmatized, Length: 93, dtype: object"
      ]
     },
     "execution_count": 65,
     "metadata": {},
     "output_type": "execute_result"
    }
   ],
   "source": [
    "dataset_full['text_lemmatized']"
   ]
  },
  {
   "cell_type": "code",
   "execution_count": 67,
   "id": "f7f90eb0-c8ef-4703-b800-24b88b2bcf9b",
   "metadata": {},
   "outputs": [],
   "source": [
    "from nltk.corpus import  wordnet\n",
    "from nltk.stem   import  WordNetLemmatizer"
   ]
  },
  {
   "cell_type": "code",
   "execution_count": 68,
   "id": "0ebb4217-6226-4e85-830e-2bbae921bf44",
   "metadata": {},
   "outputs": [],
   "source": [
    "lemma_obj_new  =  WordNetLemmatizer()"
   ]
  },
  {
   "cell_type": "code",
   "execution_count": 69,
   "id": "56484624-e4dd-4c9c-9f8e-6db2d237c716",
   "metadata": {},
   "outputs": [],
   "source": [
    "wordnet_map = {\"N\": wordnet.NOUN,\"V\": wordnet.VERB,\"A\": wordnet.ADJ,\"R\": wordnet.ADV}"
   ]
  },
  {
   "cell_type": "code",
   "execution_count": 70,
   "id": "b946cec1-be37-42b8-ab7d-7482f29f3897",
   "metadata": {},
   "outputs": [],
   "source": []
  },
  {
   "cell_type": "code",
   "execution_count": 74,
   "id": "add0b9c1-7b43-4f7c-8f07-c8cdd7c66cc6",
   "metadata": {},
   "outputs": [],
   "source": [
    "pos_tagged_text = nltk.pos_tag(\"Supriyo Sharmistha\".split())"
   ]
  },
  {
   "cell_type": "code",
   "execution_count": 73,
   "id": "8854c04d-97f8-4b6e-b6cb-83bb5eaab8f5",
   "metadata": {},
   "outputs": [
    {
     "name": "stderr",
     "output_type": "stream",
     "text": [
      "[nltk_data] Downloading package averaged_perceptron_tagger to\n",
      "[nltk_data]     C:\\Users\\sdas8\\AppData\\Roaming\\nltk_data...\n",
      "[nltk_data]   Unzipping taggers\\averaged_perceptron_tagger.zip.\n"
     ]
    },
    {
     "data": {
      "text/plain": [
       "True"
      ]
     },
     "execution_count": 73,
     "metadata": {},
     "output_type": "execute_result"
    }
   ],
   "source": [
    "nltk.download('averaged_perceptron_tagger')"
   ]
  },
  {
   "cell_type": "code",
   "execution_count": 94,
   "id": "5e2df313-7a57-48c0-9e5a-209c600b3662",
   "metadata": {},
   "outputs": [
    {
     "ename": "KeyError",
     "evalue": "None",
     "output_type": "error",
     "traceback": [
      "\u001b[1;31m---------------------------------------------------------------------------\u001b[0m",
      "\u001b[1;31mKeyError\u001b[0m                                  Traceback (most recent call last)",
      "Cell \u001b[1;32mIn[94], line 1\u001b[0m\n\u001b[1;32m----> 1\u001b[0m dataset_full[\u001b[38;5;124m'\u001b[39m\u001b[38;5;124mtext_lemmatized_updated\u001b[39m\u001b[38;5;124m'\u001b[39m] \u001b[38;5;241m=\u001b[39m  \u001b[43mdataset_full\u001b[49m\u001b[43m[\u001b[49m\u001b[38;5;124;43m\"\u001b[39;49m\u001b[38;5;124;43mtext\u001b[39;49m\u001b[38;5;124;43m\"\u001b[39;49m\u001b[43m]\u001b[49m\u001b[38;5;241;43m.\u001b[39;49m\u001b[43mapply\u001b[49m\u001b[43m(\u001b[49m\u001b[38;5;28;43;01mlambda\u001b[39;49;00m\u001b[43m \u001b[49m\u001b[43mx\u001b[49m\u001b[43m \u001b[49m\u001b[43m:\u001b[49m\u001b[43m \u001b[49m\u001b[43mlemaatize_text_new\u001b[49m\u001b[43m(\u001b[49m\u001b[43mx\u001b[49m\u001b[43m)\u001b[49m\u001b[43m  \u001b[49m\u001b[43m)\u001b[49m\n",
      "File \u001b[1;32m~\\anaconda3\\lib\\site-packages\\pandas\\core\\series.py:4771\u001b[0m, in \u001b[0;36mSeries.apply\u001b[1;34m(self, func, convert_dtype, args, **kwargs)\u001b[0m\n\u001b[0;32m   4661\u001b[0m \u001b[38;5;28;01mdef\u001b[39;00m \u001b[38;5;21mapply\u001b[39m(\n\u001b[0;32m   4662\u001b[0m     \u001b[38;5;28mself\u001b[39m,\n\u001b[0;32m   4663\u001b[0m     func: AggFuncType,\n\u001b[1;32m   (...)\u001b[0m\n\u001b[0;32m   4666\u001b[0m     \u001b[38;5;241m*\u001b[39m\u001b[38;5;241m*\u001b[39mkwargs,\n\u001b[0;32m   4667\u001b[0m ) \u001b[38;5;241m-\u001b[39m\u001b[38;5;241m>\u001b[39m DataFrame \u001b[38;5;241m|\u001b[39m Series:\n\u001b[0;32m   4668\u001b[0m     \u001b[38;5;124;03m\"\"\"\u001b[39;00m\n\u001b[0;32m   4669\u001b[0m \u001b[38;5;124;03m    Invoke function on values of Series.\u001b[39;00m\n\u001b[0;32m   4670\u001b[0m \n\u001b[1;32m   (...)\u001b[0m\n\u001b[0;32m   4769\u001b[0m \u001b[38;5;124;03m    dtype: float64\u001b[39;00m\n\u001b[0;32m   4770\u001b[0m \u001b[38;5;124;03m    \"\"\"\u001b[39;00m\n\u001b[1;32m-> 4771\u001b[0m     \u001b[38;5;28;01mreturn\u001b[39;00m \u001b[43mSeriesApply\u001b[49m\u001b[43m(\u001b[49m\u001b[38;5;28;43mself\u001b[39;49m\u001b[43m,\u001b[49m\u001b[43m \u001b[49m\u001b[43mfunc\u001b[49m\u001b[43m,\u001b[49m\u001b[43m \u001b[49m\u001b[43mconvert_dtype\u001b[49m\u001b[43m,\u001b[49m\u001b[43m \u001b[49m\u001b[43margs\u001b[49m\u001b[43m,\u001b[49m\u001b[43m \u001b[49m\u001b[43mkwargs\u001b[49m\u001b[43m)\u001b[49m\u001b[38;5;241;43m.\u001b[39;49m\u001b[43mapply\u001b[49m\u001b[43m(\u001b[49m\u001b[43m)\u001b[49m\n",
      "File \u001b[1;32m~\\anaconda3\\lib\\site-packages\\pandas\\core\\apply.py:1123\u001b[0m, in \u001b[0;36mSeriesApply.apply\u001b[1;34m(self)\u001b[0m\n\u001b[0;32m   1120\u001b[0m     \u001b[38;5;28;01mreturn\u001b[39;00m \u001b[38;5;28mself\u001b[39m\u001b[38;5;241m.\u001b[39mapply_str()\n\u001b[0;32m   1122\u001b[0m \u001b[38;5;66;03m# self.f is Callable\u001b[39;00m\n\u001b[1;32m-> 1123\u001b[0m \u001b[38;5;28;01mreturn\u001b[39;00m \u001b[38;5;28;43mself\u001b[39;49m\u001b[38;5;241;43m.\u001b[39;49m\u001b[43mapply_standard\u001b[49m\u001b[43m(\u001b[49m\u001b[43m)\u001b[49m\n",
      "File \u001b[1;32m~\\anaconda3\\lib\\site-packages\\pandas\\core\\apply.py:1174\u001b[0m, in \u001b[0;36mSeriesApply.apply_standard\u001b[1;34m(self)\u001b[0m\n\u001b[0;32m   1172\u001b[0m     \u001b[38;5;28;01melse\u001b[39;00m:\n\u001b[0;32m   1173\u001b[0m         values \u001b[38;5;241m=\u001b[39m obj\u001b[38;5;241m.\u001b[39mastype(\u001b[38;5;28mobject\u001b[39m)\u001b[38;5;241m.\u001b[39m_values\n\u001b[1;32m-> 1174\u001b[0m         mapped \u001b[38;5;241m=\u001b[39m \u001b[43mlib\u001b[49m\u001b[38;5;241;43m.\u001b[39;49m\u001b[43mmap_infer\u001b[49m\u001b[43m(\u001b[49m\n\u001b[0;32m   1175\u001b[0m \u001b[43m            \u001b[49m\u001b[43mvalues\u001b[49m\u001b[43m,\u001b[49m\n\u001b[0;32m   1176\u001b[0m \u001b[43m            \u001b[49m\u001b[43mf\u001b[49m\u001b[43m,\u001b[49m\n\u001b[0;32m   1177\u001b[0m \u001b[43m            \u001b[49m\u001b[43mconvert\u001b[49m\u001b[38;5;241;43m=\u001b[39;49m\u001b[38;5;28;43mself\u001b[39;49m\u001b[38;5;241;43m.\u001b[39;49m\u001b[43mconvert_dtype\u001b[49m\u001b[43m,\u001b[49m\n\u001b[0;32m   1178\u001b[0m \u001b[43m        \u001b[49m\u001b[43m)\u001b[49m\n\u001b[0;32m   1180\u001b[0m \u001b[38;5;28;01mif\u001b[39;00m \u001b[38;5;28mlen\u001b[39m(mapped) \u001b[38;5;129;01mand\u001b[39;00m \u001b[38;5;28misinstance\u001b[39m(mapped[\u001b[38;5;241m0\u001b[39m], ABCSeries):\n\u001b[0;32m   1181\u001b[0m     \u001b[38;5;66;03m# GH#43986 Need to do list(mapped) in order to get treated as nested\u001b[39;00m\n\u001b[0;32m   1182\u001b[0m     \u001b[38;5;66;03m#  See also GH#25959 regarding EA support\u001b[39;00m\n\u001b[0;32m   1183\u001b[0m     \u001b[38;5;28;01mreturn\u001b[39;00m obj\u001b[38;5;241m.\u001b[39m_constructor_expanddim(\u001b[38;5;28mlist\u001b[39m(mapped), index\u001b[38;5;241m=\u001b[39mobj\u001b[38;5;241m.\u001b[39mindex)\n",
      "File \u001b[1;32m~\\anaconda3\\lib\\site-packages\\pandas\\_libs\\lib.pyx:2924\u001b[0m, in \u001b[0;36mpandas._libs.lib.map_infer\u001b[1;34m()\u001b[0m\n",
      "Cell \u001b[1;32mIn[94], line 1\u001b[0m, in \u001b[0;36m<lambda>\u001b[1;34m(x)\u001b[0m\n\u001b[1;32m----> 1\u001b[0m dataset_full[\u001b[38;5;124m'\u001b[39m\u001b[38;5;124mtext_lemmatized_updated\u001b[39m\u001b[38;5;124m'\u001b[39m] \u001b[38;5;241m=\u001b[39m  dataset_full[\u001b[38;5;124m\"\u001b[39m\u001b[38;5;124mtext\u001b[39m\u001b[38;5;124m\"\u001b[39m]\u001b[38;5;241m.\u001b[39mapply(\u001b[38;5;28;01mlambda\u001b[39;00m x : \u001b[43mlemaatize_text_new\u001b[49m\u001b[43m(\u001b[49m\u001b[43mx\u001b[49m\u001b[43m)\u001b[49m  )\n",
      "Cell \u001b[1;32mIn[93], line 3\u001b[0m, in \u001b[0;36mlemaatize_text_new\u001b[1;34m(text)\u001b[0m\n\u001b[0;32m      1\u001b[0m \u001b[38;5;28;01mdef\u001b[39;00m \u001b[38;5;21mlemaatize_text_new\u001b[39m(text):\n\u001b[0;32m      2\u001b[0m     pos_tagged_text \u001b[38;5;241m=\u001b[39m nltk\u001b[38;5;241m.\u001b[39mpos_tag(text\u001b[38;5;241m.\u001b[39msplit())\n\u001b[1;32m----> 3\u001b[0m     \u001b[38;5;28;01mreturn\u001b[39;00m \u001b[38;5;124m\"\u001b[39m\u001b[38;5;124m \u001b[39m\u001b[38;5;124m\"\u001b[39m\u001b[38;5;241m.\u001b[39mjoin([ lemma_obj_new\u001b[38;5;241m.\u001b[39mlemmatize(word, wordnet_map\u001b[38;5;241m.\u001b[39mget(pos[\u001b[38;5;241m0\u001b[39m])) \u001b[38;5;28;01mfor\u001b[39;00m word,pos \u001b[38;5;129;01min\u001b[39;00m pos_tagged_text])\n",
      "Cell \u001b[1;32mIn[93], line 3\u001b[0m, in \u001b[0;36m<listcomp>\u001b[1;34m(.0)\u001b[0m\n\u001b[0;32m      1\u001b[0m \u001b[38;5;28;01mdef\u001b[39;00m \u001b[38;5;21mlemaatize_text_new\u001b[39m(text):\n\u001b[0;32m      2\u001b[0m     pos_tagged_text \u001b[38;5;241m=\u001b[39m nltk\u001b[38;5;241m.\u001b[39mpos_tag(text\u001b[38;5;241m.\u001b[39msplit())\n\u001b[1;32m----> 3\u001b[0m     \u001b[38;5;28;01mreturn\u001b[39;00m \u001b[38;5;124m\"\u001b[39m\u001b[38;5;124m \u001b[39m\u001b[38;5;124m\"\u001b[39m\u001b[38;5;241m.\u001b[39mjoin([ \u001b[43mlemma_obj_new\u001b[49m\u001b[38;5;241;43m.\u001b[39;49m\u001b[43mlemmatize\u001b[49m\u001b[43m(\u001b[49m\u001b[43mword\u001b[49m\u001b[43m,\u001b[49m\u001b[43m \u001b[49m\u001b[43mwordnet_map\u001b[49m\u001b[38;5;241;43m.\u001b[39;49m\u001b[43mget\u001b[49m\u001b[43m(\u001b[49m\u001b[43mpos\u001b[49m\u001b[43m[\u001b[49m\u001b[38;5;241;43m0\u001b[39;49m\u001b[43m]\u001b[49m\u001b[43m)\u001b[49m\u001b[43m)\u001b[49m \u001b[38;5;28;01mfor\u001b[39;00m word,pos \u001b[38;5;129;01min\u001b[39;00m pos_tagged_text])\n",
      "File \u001b[1;32m~\\anaconda3\\lib\\site-packages\\nltk\\stem\\wordnet.py:45\u001b[0m, in \u001b[0;36mWordNetLemmatizer.lemmatize\u001b[1;34m(self, word, pos)\u001b[0m\n\u001b[0;32m     33\u001b[0m \u001b[38;5;28;01mdef\u001b[39;00m \u001b[38;5;21mlemmatize\u001b[39m(\u001b[38;5;28mself\u001b[39m, word: \u001b[38;5;28mstr\u001b[39m, pos: \u001b[38;5;28mstr\u001b[39m \u001b[38;5;241m=\u001b[39m \u001b[38;5;124m\"\u001b[39m\u001b[38;5;124mn\u001b[39m\u001b[38;5;124m\"\u001b[39m) \u001b[38;5;241m-\u001b[39m\u001b[38;5;241m>\u001b[39m \u001b[38;5;28mstr\u001b[39m:\n\u001b[0;32m     34\u001b[0m     \u001b[38;5;124;03m\"\"\"Lemmatize `word` using WordNet's built-in morphy function.\u001b[39;00m\n\u001b[0;32m     35\u001b[0m \u001b[38;5;124;03m    Returns the input word unchanged if it cannot be found in WordNet.\u001b[39;00m\n\u001b[0;32m     36\u001b[0m \n\u001b[1;32m   (...)\u001b[0m\n\u001b[0;32m     43\u001b[0m \u001b[38;5;124;03m    :return: The lemma of `word`, for the given `pos`.\u001b[39;00m\n\u001b[0;32m     44\u001b[0m \u001b[38;5;124;03m    \"\"\"\u001b[39;00m\n\u001b[1;32m---> 45\u001b[0m     lemmas \u001b[38;5;241m=\u001b[39m \u001b[43mwn\u001b[49m\u001b[38;5;241;43m.\u001b[39;49m\u001b[43m_morphy\u001b[49m\u001b[43m(\u001b[49m\u001b[43mword\u001b[49m\u001b[43m,\u001b[49m\u001b[43m \u001b[49m\u001b[43mpos\u001b[49m\u001b[43m)\u001b[49m\n\u001b[0;32m     46\u001b[0m     \u001b[38;5;28;01mreturn\u001b[39;00m \u001b[38;5;28mmin\u001b[39m(lemmas, key\u001b[38;5;241m=\u001b[39m\u001b[38;5;28mlen\u001b[39m) \u001b[38;5;28;01mif\u001b[39;00m lemmas \u001b[38;5;28;01melse\u001b[39;00m word\n",
      "File \u001b[1;32m~\\anaconda3\\lib\\site-packages\\nltk\\corpus\\reader\\wordnet.py:2008\u001b[0m, in \u001b[0;36mWordNetCorpusReader._morphy\u001b[1;34m(self, form, pos, check_exceptions)\u001b[0m\n\u001b[0;32m   2000\u001b[0m \u001b[38;5;28;01mdef\u001b[39;00m \u001b[38;5;21m_morphy\u001b[39m(\u001b[38;5;28mself\u001b[39m, form, pos, check_exceptions\u001b[38;5;241m=\u001b[39m\u001b[38;5;28;01mTrue\u001b[39;00m):\n\u001b[0;32m   2001\u001b[0m     \u001b[38;5;66;03m# from jordanbg:\u001b[39;00m\n\u001b[0;32m   2002\u001b[0m     \u001b[38;5;66;03m# Given an original string x\u001b[39;00m\n\u001b[1;32m   (...)\u001b[0m\n\u001b[0;32m   2005\u001b[0m     \u001b[38;5;66;03m# 3. If there are no matches, keep applying rules until you either\u001b[39;00m\n\u001b[0;32m   2006\u001b[0m     \u001b[38;5;66;03m#    find a match or you can't go any further\u001b[39;00m\n\u001b[1;32m-> 2008\u001b[0m     exceptions \u001b[38;5;241m=\u001b[39m \u001b[38;5;28;43mself\u001b[39;49m\u001b[38;5;241;43m.\u001b[39;49m\u001b[43m_exception_map\u001b[49m\u001b[43m[\u001b[49m\u001b[43mpos\u001b[49m\u001b[43m]\u001b[49m\n\u001b[0;32m   2009\u001b[0m     substitutions \u001b[38;5;241m=\u001b[39m \u001b[38;5;28mself\u001b[39m\u001b[38;5;241m.\u001b[39mMORPHOLOGICAL_SUBSTITUTIONS[pos]\n\u001b[0;32m   2011\u001b[0m     \u001b[38;5;28;01mdef\u001b[39;00m \u001b[38;5;21mapply_rules\u001b[39m(forms):\n",
      "\u001b[1;31mKeyError\u001b[0m: None"
     ]
    }
   ],
   "source": [
    "dataset_full['text_lemmatized_updated'] =  dataset_full[\"text\"].apply(lambda x : lemaatize_text_new(x)  )"
   ]
  },
  {
   "cell_type": "code",
   "execution_count": 75,
   "id": "22b386b3-b328-4504-a1d6-9013d69cb9ab",
   "metadata": {},
   "outputs": [],
   "source": [
    "pos_tagged_text = nltk.pos_tag(\"Supriyo Sharmistha\".split())"
   ]
  },
  {
   "cell_type": "code",
   "execution_count": 76,
   "id": "f2ff70c1-cd9f-484b-a213-c48b758d823e",
   "metadata": {},
   "outputs": [
    {
     "data": {
      "text/plain": [
       "[('Supriyo', 'NNP'), ('Sharmistha', 'NNP')]"
      ]
     },
     "execution_count": 76,
     "metadata": {},
     "output_type": "execute_result"
    }
   ],
   "source": [
    "pos_tagged_text"
   ]
  },
  {
   "cell_type": "code",
   "execution_count": 97,
   "id": "fc70d7f6-2c4b-4e12-bcef-c460f2cab72f",
   "metadata": {},
   "outputs": [],
   "source": [
    "def lemaatize_text_new(text):\n",
    "    pos_tagged_text = nltk.pos_tag(text.split())\n",
    "    return \" \".join([ lemma_obj_new.lemmatize(word, wordnet_map.get(pos[0],wordnet.NOUN)) for word,pos in pos_tagged_text])"
   ]
  },
  {
   "cell_type": "code",
   "execution_count": 78,
   "id": "39043a89-9c6f-4ad9-b9fe-f1c576349fc4",
   "metadata": {},
   "outputs": [],
   "source": [
    "pos_tagger_text  =  nltk.pos_tag(\"SUpriyo loves Sharmistha\".split())"
   ]
  },
  {
   "cell_type": "code",
   "execution_count": 79,
   "id": "bbacbe05-b8a8-4b3a-a562-6bf9de788115",
   "metadata": {},
   "outputs": [
    {
     "data": {
      "text/plain": [
       "[('SUpriyo', 'NNP'), ('loves', 'VBZ'), ('Sharmistha', 'NNP')]"
      ]
     },
     "execution_count": 79,
     "metadata": {},
     "output_type": "execute_result"
    }
   ],
   "source": [
    "pos_tagger_text"
   ]
  },
  {
   "cell_type": "code",
   "execution_count": 87,
   "id": "9f4d34b8-1cae-4004-8079-0a0fd6fdb5b4",
   "metadata": {},
   "outputs": [
    {
     "data": {
      "text/plain": [
       "['N', 'V', 'N']"
      ]
     },
     "execution_count": 87,
     "metadata": {},
     "output_type": "execute_result"
    }
   ],
   "source": [
    "[ pos[0] for ( word,pos) in pos_tagger_text]"
   ]
  },
  {
   "cell_type": "code",
   "execution_count": 91,
   "id": "1149a5af-8f17-4e51-ac13-2264a16d136a",
   "metadata": {},
   "outputs": [
    {
     "data": {
      "text/plain": [
       "'v'"
      ]
     },
     "execution_count": 91,
     "metadata": {},
     "output_type": "execute_result"
    }
   ],
   "source": [
    "wordnet_map.get('V')"
   ]
  },
  {
   "cell_type": "code",
   "execution_count": 98,
   "id": "c1199b03-fa77-4ed4-a945-2480b49e91dd",
   "metadata": {},
   "outputs": [],
   "source": [
    "dataset_full['text_lemmatized_updated'] =  dataset_full[\"text\"].apply(lambda x : lemaatize_text_new(x)  )"
   ]
  },
  {
   "cell_type": "code",
   "execution_count": 99,
   "id": "d1f6af5b-e2e7-46b0-9357-702ef20111ea",
   "metadata": {},
   "outputs": [
    {
     "data": {
      "text/plain": [
       "0     @AppleSupport cause the reply to be disregard ...\n",
       "1     @105835 Your business mean a lot to us. Please...\n",
       "2     @76328 I really hope you all change but I'm su...\n",
       "3     @105836 LiveChat be online at the moment - htt...\n",
       "4     @VirginTrains see attached error message. I've...\n",
       "                            ...                        \n",
       "88    @105860 I wish Amazon have an option of where ...\n",
       "89    They reschedule my shit for tomorrow https://t...\n",
       "90    @105861 Hey Sara, sorry to hear of the issue y...\n",
       "91    @Tesco bit of both - find the layout cumbersom...\n",
       "92    @105861 If that doesn't help please DM your fu...\n",
       "Name: text_lemmatized_updated, Length: 93, dtype: object"
      ]
     },
     "execution_count": 99,
     "metadata": {},
     "output_type": "execute_result"
    }
   ],
   "source": [
    "dataset_full['text_lemmatized_updated']"
   ]
  },
  {
   "cell_type": "code",
   "execution_count": 100,
   "id": "70e54c2c-2ea5-4c57-b609-9a45cb79979d",
   "metadata": {},
   "outputs": [],
   "source": [
    "import re"
   ]
  },
  {
   "cell_type": "code",
   "execution_count": 103,
   "id": "0378243c-6df3-480d-b58f-2699e55062d8",
   "metadata": {},
   "outputs": [],
   "source": [
    "pattern = re.compile(r\"\\d+\")"
   ]
  },
  {
   "cell_type": "code",
   "execution_count": 137,
   "id": "bed4d193-9884-4fb0-a2be-02d792837dd6",
   "metadata": {},
   "outputs": [],
   "source": [
    "string = \"Supriyo1Sh2ar3msi4\"\n",
    "result = pattern.findall(string)"
   ]
  },
  {
   "cell_type": "code",
   "execution_count": 138,
   "id": "34e634c2-06b6-4cbb-95d4-a0e7d7fe6788",
   "metadata": {},
   "outputs": [
    {
     "name": "stdout",
     "output_type": "stream",
     "text": [
      "['1', '2', '3', '4']\n"
     ]
    }
   ],
   "source": [
    "print(result)"
   ]
  },
  {
   "cell_type": "code",
   "execution_count": 139,
   "id": "9a861d58-1cc3-49e2-b90d-1d0c85f45cb3",
   "metadata": {},
   "outputs": [],
   "source": [
    "### renove urls"
   ]
  },
  {
   "cell_type": "code",
   "execution_count": 146,
   "id": "e1008a53-09b2-4f27-94b5-90f1ce9fe61b",
   "metadata": {},
   "outputs": [],
   "source": [
    "def remove_url(text):\n",
    "    reg_pattern =  re.compile(r\"https?://\\S+|www\\.\\S+\")\n",
    "    return reg_pattern.sub(r'',text)"
   ]
  },
  {
   "cell_type": "code",
   "execution_count": 147,
   "id": "32d98060-ccaa-4491-babe-26cb4ef722a7",
   "metadata": {},
   "outputs": [],
   "source": [
    "text = \"Driverless AI NLP blog post on https://www.h2o.ai/blog/detecting-sarcasm-is-difficult-but-ai-may-have-an-answer/\"\n",
    "f = remove_url(text)"
   ]
  },
  {
   "cell_type": "code",
   "execution_count": 142,
   "id": "d9a42d25-a93f-49af-8507-6fca263a73b5",
   "metadata": {},
   "outputs": [],
   "source": [
    "remove_url(text)"
   ]
  },
  {
   "cell_type": "code",
   "execution_count": 148,
   "id": "d2a06058-89da-4745-b6c7-b5b0e502456a",
   "metadata": {},
   "outputs": [
    {
     "data": {
      "text/plain": [
       "'Driverless AI NLP blog post on https://www.h2o.ai/blog/detecting-sarcasm-is-difficult-but-ai-may-have-an-answer/'"
      ]
     },
     "execution_count": 148,
     "metadata": {},
     "output_type": "execute_result"
    }
   ],
   "source": [
    "text"
   ]
  },
  {
   "cell_type": "code",
   "execution_count": 149,
   "id": "0d262284-5fd9-4cb1-9bad-89a71da8af69",
   "metadata": {},
   "outputs": [
    {
     "data": {
      "text/plain": [
       "'Driverless AI NLP blog post on '"
      ]
     },
     "execution_count": 149,
     "metadata": {},
     "output_type": "execute_result"
    }
   ],
   "source": [
    "f"
   ]
  },
  {
   "cell_type": "code",
   "execution_count": 150,
   "id": "fdcb93a4-a8a3-42d4-9934-43f74118eaa5",
   "metadata": {},
   "outputs": [
    {
     "data": {
      "text/plain": [
       "'Please refer to link  for the paper'"
      ]
     },
     "execution_count": 150,
     "metadata": {},
     "output_type": "execute_result"
    }
   ],
   "source": [
    "text = \"Please refer to link http://lnkd.in/ecnt5yC for the paper\"\n",
    "remove_url(text)"
   ]
  },
  {
   "cell_type": "code",
   "execution_count": 162,
   "id": "25d73bf8-24e4-438b-810a-6c2c0eb769cc",
   "metadata": {},
   "outputs": [],
   "source": [
    "def remove_url1(text):\n",
    "    reg_pattern =  re.compile(r\"https://\\S+\")\n",
    "    return reg_pattern.sub(r'',text)"
   ]
  },
  {
   "cell_type": "code",
   "execution_count": 163,
   "id": "739eaba4-26bd-4550-8dab-9f9948422d6f",
   "metadata": {},
   "outputs": [
    {
     "data": {
      "text/plain": [
       "'Driverless AI NLP blog post on '"
      ]
     },
     "execution_count": 163,
     "metadata": {},
     "output_type": "execute_result"
    }
   ],
   "source": [
    "text = \"Driverless AI NLP blog post on https://www.h2o.ai/blog/detecting-sarcasm-is-difficult-but-ai-may-have-an-answer/\"\n",
    "remove_url1(text)"
   ]
  },
  {
   "cell_type": "code",
   "execution_count": 166,
   "id": "8d787e34-0e82-4df3-bc33-a991bd15c5eb",
   "metadata": {},
   "outputs": [],
   "source": [
    "def remove_url1(text):\n",
    "    reg_pattern =  re.compile(r\"www.\\S+\")\n",
    "    return reg_pattern.sub(r'',text)"
   ]
  },
  {
   "cell_type": "code",
   "execution_count": 168,
   "id": "c1aadda5-2b2a-4436-9b51-cf9b160aa650",
   "metadata": {},
   "outputs": [
    {
     "data": {
      "text/plain": [
       "\"Please refer to link  for the paper' \""
      ]
     },
     "execution_count": 168,
     "metadata": {},
     "output_type": "execute_result"
    }
   ],
   "source": [
    "text = \"Please refer to link  for the paper www.h2o.ai/blog/detec\"\n",
    "remove_url1(text)"
   ]
  },
  {
   "cell_type": "code",
   "execution_count": 170,
   "id": "ce55c052-c5d9-4e1a-92a8-ef466f0da9c4",
   "metadata": {},
   "outputs": [],
   "source": [
    "text1 = \"Driverless AI NLP blog post on https://www.h2o.ai/blog/detecting-sarcasm-is-difficult-but-ai-may-have-an-answer/\"\n",
    "text2 = \"Please refer to link http://lnkd.in/ecnt5yC for the paper\"\n",
    "text3 = \"Want to know more. Checkout www.h2o.ai for additional information\"\n"
   ]
  },
  {
   "cell_type": "code",
   "execution_count": 175,
   "id": "c74d0ea2-cc81-4091-8cad-4abcc4868ad6",
   "metadata": {},
   "outputs": [],
   "source": [
    "def remove_urls(text):\n",
    "    pattern =  re.compile(r\"https://\\S+|www.\\S+|http\\S+\")\n",
    "    return pattern.sub(r\" \",text)"
   ]
  },
  {
   "cell_type": "code",
   "execution_count": 176,
   "id": "c060429a-d6d1-4257-bb6f-d54794990198",
   "metadata": {},
   "outputs": [
    {
     "data": {
      "text/plain": [
       "'Driverless AI NLP blog post on  '"
      ]
     },
     "execution_count": 176,
     "metadata": {},
     "output_type": "execute_result"
    }
   ],
   "source": [
    "remove_urls(text1)"
   ]
  },
  {
   "cell_type": "code",
   "execution_count": 177,
   "id": "f329c5d4-ed9a-499c-bd53-d496814d8654",
   "metadata": {},
   "outputs": [
    {
     "data": {
      "text/plain": [
       "'Please refer to link   for the paper'"
      ]
     },
     "execution_count": 177,
     "metadata": {},
     "output_type": "execute_result"
    }
   ],
   "source": [
    "remove_urls(text2)"
   ]
  },
  {
   "cell_type": "code",
   "execution_count": 178,
   "id": "833a087f-85a2-437a-9510-dcc4d37a771e",
   "metadata": {},
   "outputs": [
    {
     "data": {
      "text/plain": [
       "'Want to know more. Checkout   for additional information'"
      ]
     },
     "execution_count": 178,
     "metadata": {},
     "output_type": "execute_result"
    }
   ],
   "source": [
    "remove_urls(text3)"
   ]
  },
  {
   "cell_type": "markdown",
   "id": "3d107a30-bdf6-4698-9828-0d7dcbbeb208",
   "metadata": {},
   "source": [
    "- ----------- HTML Characters  removal -------------"
   ]
  },
  {
   "cell_type": "code",
   "execution_count": 201,
   "id": "e93a3a47-9cf4-4ab1-9a48-240b02ed9119",
   "metadata": {},
   "outputs": [],
   "source": [
    "def remove_htmlChars(text):\n",
    "    htmlpattern =  re.compile(\"<.*?>\")\n",
    "    return htmlpattern.sub(\"\", text)"
   ]
  },
  {
   "cell_type": "code",
   "execution_count": 199,
   "id": "91176c92-dff3-405c-ae33-609617bac4f6",
   "metadata": {},
   "outputs": [],
   "source": [
    "text = \"\"\"<div> <h1> H2O</h1> <p> AutoML</p> <a href=\"https://www.h2o.ai/products/h2o-driverless-ai/\"> Driverless AI</a> </div> \"\"\""
   ]
  },
  {
   "cell_type": "code",
   "execution_count": 202,
   "id": "c04c50ba-49d6-4c0b-9a09-4f8e36dbe017",
   "metadata": {},
   "outputs": [
    {
     "data": {
      "text/plain": [
       "'  H2O  AutoML  Driverless AI  '"
      ]
     },
     "execution_count": 202,
     "metadata": {},
     "output_type": "execute_result"
    }
   ],
   "source": [
    "remove_htmlChars(text)"
   ]
  },
  {
   "cell_type": "code",
   "execution_count": 196,
   "id": "3b167ca2-6e8f-456c-91e0-40653ba967f7",
   "metadata": {},
   "outputs": [],
   "source": [
    "from bs4 import BeautifulSoup"
   ]
  },
  {
   "cell_type": "code",
   "execution_count": 197,
   "id": "a2eebcf0-3b13-426b-bbc5-e9852889eed2",
   "metadata": {},
   "outputs": [],
   "source": [
    "def remove_htmlChars(text):\n",
    "   \n",
    "    return BeautifulSoup(text,\"lxml\").text"
   ]
  },
  {
   "cell_type": "code",
   "execution_count": 200,
   "id": "d8d9aded-9077-4025-a53b-ab068141515c",
   "metadata": {},
   "outputs": [
    {
     "data": {
      "text/plain": [
       "'  H2O  AutoML  Driverless AI  '"
      ]
     },
     "execution_count": 200,
     "metadata": {},
     "output_type": "execute_result"
    }
   ],
   "source": [
    "remove_htmlChars(text)"
   ]
  },
  {
   "cell_type": "markdown",
   "id": "68a0965e-53b3-4dd5-a05b-3a5fc3ccffa9",
   "metadata": {},
   "source": [
    "----------- SPell correction"
   ]
  },
  {
   "cell_type": "code",
   "execution_count": 204,
   "id": "89a8a006-c76a-409f-bdae-1bee20acc8ee",
   "metadata": {},
   "outputs": [
    {
     "name": "stdout",
     "output_type": "stream",
     "text": [
      "Collecting pyspellchecker\n",
      "  Downloading pyspellchecker-0.8.1-py3-none-any.whl (6.8 MB)\n",
      "     ---------------------------------------- 6.8/6.8 MB 1.3 MB/s eta 0:00:00\n",
      "Installing collected packages: pyspellchecker\n",
      "Successfully installed pyspellchecker-0.8.1\n"
     ]
    }
   ],
   "source": [
    "!pip install pyspellchecker"
   ]
  },
  {
   "cell_type": "code",
   "execution_count": 206,
   "id": "4dd71db0-4af7-40be-affa-ad4b5ac4fa45",
   "metadata": {},
   "outputs": [],
   "source": [
    "from spellchecker import SpellChecker"
   ]
  },
  {
   "cell_type": "code",
   "execution_count": 208,
   "id": "6c8af6df-b175-4bfe-be20-b758ba554c51",
   "metadata": {},
   "outputs": [],
   "source": [
    "spell = SpellChecker()"
   ]
  },
  {
   "cell_type": "code",
   "execution_count": 209,
   "id": "6fb8cd7d-1fa9-4a2f-b088-bb3427d79f3e",
   "metadata": {},
   "outputs": [],
   "source": [
    "def correct_spellings(text):\n",
    "    corrected_text = []\n",
    "    misspelled_words = spell.unknown(text.split())\n",
    "    for word in text.split():\n",
    "        if word in misspelled_words:\n",
    "            corrected_text.append(spell.correction(word))\n",
    "        else:\n",
    "            corrected_text.append(word)\n",
    "    return \" \".join(corrected_text)\n"
   ]
  },
  {
   "cell_type": "code",
   "execution_count": 210,
   "id": "4abc6ef7-3303-4f6b-9c48-8241024ec536",
   "metadata": {},
   "outputs": [
    {
     "data": {
      "text/plain": [
       "'spelling correcting'"
      ]
     },
     "execution_count": 210,
     "metadata": {},
     "output_type": "execute_result"
    }
   ],
   "source": [
    "\n",
    "text = \"speling correctin\"\n",
    "correct_spellings(text)"
   ]
  },
  {
   "cell_type": "code",
   "execution_count": 229,
   "id": "015c9700-b47f-4c6b-8e88-10f7b222ecbe",
   "metadata": {},
   "outputs": [],
   "source": [
    "wrong_sentence  = \"My Fathr gos to markt evry  \""
   ]
  },
  {
   "cell_type": "code",
   "execution_count": 213,
   "id": "97d83429-3d05-489e-908a-f0ea54ae70cc",
   "metadata": {},
   "outputs": [],
   "source": [
    "from spellchecker import SpellChecker "
   ]
  },
  {
   "cell_type": "code",
   "execution_count": 214,
   "id": "9ed6a6fc-d1c6-42bb-8d8a-69de8ae04ce0",
   "metadata": {},
   "outputs": [],
   "source": [
    "spellingcheck =  SpellChecker()"
   ]
  },
  {
   "cell_type": "code",
   "execution_count": 221,
   "id": "4ccce321-e8ee-435f-ac19-528d88c2c5c5",
   "metadata": {},
   "outputs": [],
   "source": [
    "def implementation_of_spelling_check(text):\n",
    "    corrected_spellings = []\n",
    "    wrong_spellings = spellingcheck.unknown(text.split())\n",
    "    for word in str(text).split():\n",
    "        if word in wrong_spellings:\n",
    "            corrected_spellings.append(spellingcheck.correction(word))\n",
    "        else:\n",
    "            corrected_spellings.append(word)\n",
    "    return \" \".join(corrected_spellings)\n",
    "    "
   ]
  },
  {
   "cell_type": "code",
   "execution_count": 230,
   "id": "54be6c99-e3c4-4b97-8441-6312a09f6158",
   "metadata": {},
   "outputs": [
    {
     "data": {
      "text/plain": [
       "'My Fathr got to mark very'"
      ]
     },
     "execution_count": 230,
     "metadata": {},
     "output_type": "execute_result"
    }
   ],
   "source": [
    "implementation_of_spelling_check(wrong_sentence)"
   ]
  },
  {
   "cell_type": "markdown",
   "id": "38613923-160a-4499-9d6d-ca5d28d65f1f",
   "metadata": {},
   "source": [
    "--------------- CHat word conversion ----------"
   ]
  },
  {
   "cell_type": "code",
   "execution_count": 231,
   "id": "5203983d-d3c4-4488-8afa-de81df7162ac",
   "metadata": {},
   "outputs": [],
   "source": [
    "chat_words_str = \"\"\"\n",
    "AFAIK=As Far As I Know\n",
    "AFK=Away From Keyboard\n",
    "ASAP=As Soon As Possible\n",
    "ATK=At The Keyboard\n",
    "ATM=At The Moment\n",
    "A3=Anytime, Anywhere, Anyplace\n",
    "BAK=Back At Keyboard\n",
    "BBL=Be Back Later\n",
    "BBS=Be Back Soon\n",
    "BFN=Bye For Now\n",
    "B4N=Bye For Now\n",
    "BRB=Be Right Back\n",
    "BRT=Be Right There\n",
    "BTW=By The Way\n",
    "B4=Before\n",
    "B4N=Bye For Now\n",
    "CU=See You\n",
    "CUL8R=See You Later\n",
    "CYA=See You\n",
    "FAQ=Frequently Asked Questions\n",
    "FC=Fingers Crossed\n",
    "FWIW=For What It's Worth\n",
    "FYI=For Your Information\n",
    "GAL=Get A Life\n",
    "GG=Good Game\n",
    "GN=Good Night\n",
    "GMTA=Great Minds Think Alike\n",
    "GR8=Great!\n",
    "G9=Genius\n",
    "IC=I See\n",
    "ICQ=I Seek you (also a chat program)\n",
    "ILU=ILU: I Love You\n",
    "IMHO=In My Honest/Humble Opinion\n",
    "IMO=In My Opinion\n",
    "IOW=In Other Words\n",
    "IRL=In Real Life\n",
    "KISS=Keep It Simple, Stupid\n",
    "LDR=Long Distance Relationship\n",
    "LMAO=Laugh My A.. Off\n",
    "LOL=Laughing Out Loud\n",
    "LTNS=Long Time No See\n",
    "L8R=Later\n",
    "MTE=My Thoughts Exactly\n",
    "M8=Mate\n",
    "NRN=No Reply Necessary\n",
    "OIC=Oh I See\n",
    "PITA=Pain In The A..\n",
    "PRT=Party\n",
    "PRW=Parents Are Watching\n",
    "ROFL=Rolling On The Floor Laughing\n",
    "ROFLOL=Rolling On The Floor Laughing Out Loud\n",
    "ROTFLMAO=Rolling On The Floor Laughing My A.. Off\n",
    "SK8=Skate\n",
    "STATS=Your sex and age\n",
    "ASL=Age, Sex, Location\n",
    "THX=Thank You\n",
    "TTFN=Ta-Ta For Now!\n",
    "TTYL=Talk To You Later\n",
    "U=You\n",
    "U2=You Too\n",
    "U4E=Yours For Ever\n",
    "WB=Welcome Back\n",
    "WTF=What The F...\n",
    "WTG=Way To Go!\n",
    "WUF=Where Are You From?\n",
    "W8=Wait...\n",
    "7K=Sick:-D Laugher\n",
    "\"\"\""
   ]
  },
  {
   "cell_type": "code",
   "execution_count": 232,
   "id": "6539d25c-b430-4bc8-9793-410096f172e9",
   "metadata": {},
   "outputs": [
    {
     "data": {
      "text/plain": [
       "'one minute Be Right Back'"
      ]
     },
     "execution_count": 232,
     "metadata": {},
     "output_type": "execute_result"
    }
   ],
   "source": [
    "chat_words_map_dict = {}\n",
    "chat_words_list = []\n",
    "\n",
    "for line in chat_words_str.split(\"\\n\"):\n",
    "    if line != \"\":\n",
    "        cw = line.split(\"=\")[0]\n",
    "        cw_expanded = line.split(\"=\")[1]\n",
    "        chat_words_list.append(cw)\n",
    "        chat_words_map_dict[cw] = cw_expanded\n",
    "chat_words_list = set(chat_words_list)\n",
    "\n",
    "\n",
    "def chat_words_conversion(text):\n",
    "    new_text = []\n",
    "    for w in text.split():\n",
    "        if w.upper() in chat_words_list:\n",
    "            new_text.append(chat_words_map_dict[w.upper()])\n",
    "        else:\n",
    "            new_text.append(w)\n",
    "    return \" \".join(new_text)\n",
    "\n",
    "chat_words_conversion(\"one minute BRB\")"
   ]
  },
  {
   "cell_type": "code",
   "execution_count": 233,
   "id": "8c299f85-2079-4319-9fae-9204b3c84ae8",
   "metadata": {},
   "outputs": [],
   "source": [
    "chat_words_map_dict = {\"BRB\" : \"Be Right Back\",\"PTO\" : \"Please turn over\",\"PFA\" : \"Please find the attachment\" }\n",
    "chat_words_list = [\"BRB\",\"PTO\",\"PFA\" ]"
   ]
  },
  {
   "cell_type": "code",
   "execution_count": 234,
   "id": "659bd330-8c34-44f5-b27b-8f6c82400514",
   "metadata": {},
   "outputs": [
    {
     "data": {
      "text/plain": [
       "{'BRB': 'Be Right Back',\n",
       " 'PTO': 'Please turn over',\n",
       " 'PFA': 'Please find the attachment'}"
      ]
     },
     "execution_count": 234,
     "metadata": {},
     "output_type": "execute_result"
    }
   ],
   "source": [
    "chat_words_map_dict"
   ]
  },
  {
   "cell_type": "code",
   "execution_count": 235,
   "id": "8beff037-e5bd-4892-9169-0cd400728313",
   "metadata": {},
   "outputs": [
    {
     "data": {
      "text/plain": [
       "['BRB', 'PTO', 'PFA']"
      ]
     },
     "execution_count": 235,
     "metadata": {},
     "output_type": "execute_result"
    }
   ],
   "source": [
    "chat_words_list"
   ]
  },
  {
   "cell_type": "code",
   "execution_count": 236,
   "id": "c0d19255-d2be-4a92-b5d0-dd7b5ac707b4",
   "metadata": {},
   "outputs": [
    {
     "data": {
      "text/plain": [
       "'Be Right Back'"
      ]
     },
     "execution_count": 236,
     "metadata": {},
     "output_type": "execute_result"
    }
   ],
   "source": [
    "chat_words_map_dict[\"BRB\"]"
   ]
  },
  {
   "cell_type": "code",
   "execution_count": 241,
   "id": "7e2f127f-e12f-48a7-b3ef-733e21042e35",
   "metadata": {},
   "outputs": [],
   "source": [
    "def change_msg_chats_to_words(text):\n",
    "    corrected_words = []\n",
    "    for word in text.split():\n",
    "        if word in chat_words_list:\n",
    "            corrected_words.append(chat_words_map_dict[word])\n",
    "        else:\n",
    "            corrected_words.append(word)\n",
    "    return \" \".join(corrected_words)\n",
    "            "
   ]
  },
  {
   "cell_type": "code",
   "execution_count": 242,
   "id": "8516e70a-c961-432f-b8c7-73bd0aa2357e",
   "metadata": {},
   "outputs": [
    {
     "data": {
      "text/plain": [
       "'I love Be Right Back Please find the attachment Please turn over'"
      ]
     },
     "execution_count": 242,
     "metadata": {},
     "output_type": "execute_result"
    }
   ],
   "source": [
    "change_msg_chats_to_words(\"I love BRB PFA PTO\")"
   ]
  },
  {
   "cell_type": "code",
   "execution_count": 243,
   "id": "53d6dc76-7b07-47dd-aa6f-03564358b336",
   "metadata": {},
   "outputs": [],
   "source": [
    "chat_words_str = \"\"\"\n",
    "AFAIK=As Far As I Know\n",
    "AFK=Away From Keyboard\n",
    "ASAP=As Soon As Possible\n",
    "ATK=At The Keyboard\n",
    "ATM=At The Moment\n",
    "A3=Anytime, Anywhere, Anyplace\n",
    "BAK=Back At Keyboard\n",
    "BBL=Be Back Later\n",
    "BBS=Be Back Soon\n",
    "BFN=Bye For Now\n",
    "B4N=Bye For Now\n",
    "BRB=Be Right Back\n",
    "BRT=Be Right There\n",
    "BTW=By The Way\n",
    "B4=Before\n",
    "B4N=Bye For Now\n",
    "CU=See You\n",
    "CUL8R=See You Later\n",
    "CYA=See You\n",
    "FAQ=Frequently Asked Questions\n",
    "FC=Fingers Crossed\n",
    "FWIW=For What It's Worth\n",
    "FYI=For Your Information\n",
    "GAL=Get A Life\n",
    "GG=Good Game\n",
    "GN=Good Night\n",
    "GMTA=Great Minds Think Alike\n",
    "GR8=Great!\n",
    "G9=Genius\n",
    "IC=I See\n",
    "ICQ=I Seek you (also a chat program)\n",
    "ILU=ILU: I Love You\n",
    "IMHO=In My Honest/Humble Opinion\n",
    "IMO=In My Opinion\n",
    "IOW=In Other Words\n",
    "IRL=In Real Life\n",
    "KISS=Keep It Simple, Stupid\n",
    "LDR=Long Distance Relationship\n",
    "LMAO=Laugh My A.. Off\n",
    "LOL=Laughing Out Loud\n",
    "LTNS=Long Time No See\n",
    "L8R=Later\n",
    "MTE=My Thoughts Exactly\n",
    "M8=Mate\n",
    "NRN=No Reply Necessary\n",
    "OIC=Oh I See\n",
    "PITA=Pain In The A..\n",
    "PRT=Party\n",
    "PRW=Parents Are Watching\n",
    "ROFL=Rolling On The Floor Laughing\n",
    "ROFLOL=Rolling On The Floor Laughing Out Loud\n",
    "ROTFLMAO=Rolling On The Floor Laughing My A.. Off\n",
    "SK8=Skate\n",
    "STATS=Your sex and age\n",
    "ASL=Age, Sex, Location\n",
    "THX=Thank You\n",
    "TTFN=Ta-Ta For Now!\n",
    "TTYL=Talk To You Later\n",
    "U=You\n",
    "U2=You Too\n",
    "U4E=Yours For Ever\n",
    "WB=Welcome Back\n",
    "WTF=What The F...\n",
    "WTG=Way To Go!\n",
    "WUF=Where Are You From?\n",
    "W8=Wait...\n",
    "7K=Sick:-D Laugher\n",
    "\"\"\""
   ]
  },
  {
   "cell_type": "code",
   "execution_count": 247,
   "id": "00e219fb-e325-49e9-b671-08ddb98f7f68",
   "metadata": {},
   "outputs": [
    {
     "name": "stdout",
     "output_type": "stream",
     "text": [
      "\n",
      "AFAIK=As Far As I Know\n",
      "AFAIK\n",
      "AFAIK\n",
      "AFK=Away From Keyboard\n",
      "AFK\n",
      "AFK\n",
      "ASAP=As Soon As Possible\n",
      "ASAP\n",
      "ASAP\n",
      "ATK=At The Keyboard\n",
      "ATK\n",
      "ATK\n",
      "ATM=At The Moment\n",
      "ATM\n",
      "ATM\n",
      "A3=Anytime, Anywhere, Anyplace\n",
      "A3\n",
      "A3\n",
      "BAK=Back At Keyboard\n",
      "BAK\n",
      "BAK\n",
      "BBL=Be Back Later\n",
      "BBL\n",
      "BBL\n",
      "BBS=Be Back Soon\n",
      "BBS\n",
      "BBS\n",
      "BFN=Bye For Now\n",
      "BFN\n",
      "BFN\n",
      "B4N=Bye For Now\n",
      "B4N\n",
      "B4N\n",
      "BRB=Be Right Back\n",
      "BRB\n",
      "BRB\n",
      "BRT=Be Right There\n",
      "BRT\n",
      "BRT\n",
      "BTW=By The Way\n",
      "BTW\n",
      "BTW\n",
      "B4=Before\n",
      "B4\n",
      "B4\n",
      "B4N=Bye For Now\n",
      "B4N\n",
      "B4N\n",
      "CU=See You\n",
      "CU\n",
      "CU\n",
      "CUL8R=See You Later\n",
      "CUL8R\n",
      "CUL8R\n",
      "CYA=See You\n",
      "CYA\n",
      "CYA\n",
      "FAQ=Frequently Asked Questions\n",
      "FAQ\n",
      "FAQ\n",
      "FC=Fingers Crossed\n",
      "FC\n",
      "FC\n",
      "FWIW=For What It's Worth\n",
      "FWIW\n",
      "FWIW\n",
      "FYI=For Your Information\n",
      "FYI\n",
      "FYI\n",
      "GAL=Get A Life\n",
      "GAL\n",
      "GAL\n",
      "GG=Good Game\n",
      "GG\n",
      "GG\n",
      "GN=Good Night\n",
      "GN\n",
      "GN\n",
      "GMTA=Great Minds Think Alike\n",
      "GMTA\n",
      "GMTA\n",
      "GR8=Great!\n",
      "GR8\n",
      "GR8\n",
      "G9=Genius\n",
      "G9\n",
      "G9\n",
      "IC=I See\n",
      "IC\n",
      "IC\n",
      "ICQ=I Seek you (also a chat program)\n",
      "ICQ\n",
      "ICQ\n",
      "ILU=ILU: I Love You\n",
      "ILU\n",
      "ILU\n",
      "IMHO=In My Honest/Humble Opinion\n",
      "IMHO\n",
      "IMHO\n",
      "IMO=In My Opinion\n",
      "IMO\n",
      "IMO\n",
      "IOW=In Other Words\n",
      "IOW\n",
      "IOW\n",
      "IRL=In Real Life\n",
      "IRL\n",
      "IRL\n",
      "KISS=Keep It Simple, Stupid\n",
      "KISS\n",
      "KISS\n",
      "LDR=Long Distance Relationship\n",
      "LDR\n",
      "LDR\n",
      "LMAO=Laugh My A.. Off\n",
      "LMAO\n",
      "LMAO\n",
      "LOL=Laughing Out Loud\n",
      "LOL\n",
      "LOL\n",
      "LTNS=Long Time No See\n",
      "LTNS\n",
      "LTNS\n",
      "L8R=Later\n",
      "L8R\n",
      "L8R\n",
      "MTE=My Thoughts Exactly\n",
      "MTE\n",
      "MTE\n",
      "M8=Mate\n",
      "M8\n",
      "M8\n",
      "NRN=No Reply Necessary\n",
      "NRN\n",
      "NRN\n",
      "OIC=Oh I See\n",
      "OIC\n",
      "OIC\n",
      "PITA=Pain In The A..\n",
      "PITA\n",
      "PITA\n",
      "PRT=Party\n",
      "PRT\n",
      "PRT\n",
      "PRW=Parents Are Watching\n",
      "PRW\n",
      "PRW\n",
      "ROFL=Rolling On The Floor Laughing\n",
      "ROFL\n",
      "ROFL\n",
      "ROFLOL=Rolling On The Floor Laughing Out Loud\n",
      "ROFLOL\n",
      "ROFLOL\n",
      "ROTFLMAO=Rolling On The Floor Laughing My A.. Off\n",
      "ROTFLMAO\n",
      "ROTFLMAO\n",
      "SK8=Skate\n",
      "SK8\n",
      "SK8\n",
      "STATS=Your sex and age\n",
      "STATS\n",
      "STATS\n",
      "ASL=Age, Sex, Location\n",
      "ASL\n",
      "ASL\n",
      "THX=Thank You\n",
      "THX\n",
      "THX\n",
      "TTFN=Ta-Ta For Now!\n",
      "TTFN\n",
      "TTFN\n",
      "TTYL=Talk To You Later\n",
      "TTYL\n",
      "TTYL\n",
      "U=You\n",
      "U\n",
      "U\n",
      "U2=You Too\n",
      "U2\n",
      "U2\n",
      "U4E=Yours For Ever\n",
      "U4E\n",
      "U4E\n",
      "WB=Welcome Back\n",
      "WB\n",
      "WB\n",
      "WTF=What The F...\n",
      "WTF\n",
      "WTF\n",
      "WTG=Way To Go!\n",
      "WTG\n",
      "WTG\n",
      "WUF=Where Are You From?\n",
      "WUF\n",
      "WUF\n",
      "W8=Wait...\n",
      "W8\n",
      "W8\n",
      "7K=Sick:-D Laugher\n",
      "7K\n",
      "7K\n",
      "\n"
     ]
    }
   ],
   "source": [
    "chatwords = []\n",
    "chatwords_map= {}\n",
    "\n",
    "for line in chat_words_str.split(\"\\n\"):\n",
    "    print(line)\n",
    "    if line != \"\":\n",
    "        abbrevation =  line.split(\"=\")[0]\n",
    "        print(abbrevation);\n",
    "        full_form  =  line.split(\"=\")[1]\n",
    "        print(abbrevation)\n",
    "        chatwords.append(abbrevation)\n",
    "        chatwords_map[abbrevation] = full_form\n",
    "        \n",
    "            "
   ]
  },
  {
   "cell_type": "code",
   "execution_count": 248,
   "id": "6d4b8657-387b-4b8e-adad-396d1c56843c",
   "metadata": {},
   "outputs": [
    {
     "data": {
      "text/plain": [
       "['AFAIK',\n",
       " 'AFK',\n",
       " 'ASAP',\n",
       " 'ATK',\n",
       " 'ATM',\n",
       " 'A3',\n",
       " 'BAK',\n",
       " 'BBL',\n",
       " 'BBS',\n",
       " 'BFN',\n",
       " 'B4N',\n",
       " 'BRB',\n",
       " 'BRT',\n",
       " 'BTW',\n",
       " 'B4',\n",
       " 'B4N',\n",
       " 'CU',\n",
       " 'CUL8R',\n",
       " 'CYA',\n",
       " 'FAQ',\n",
       " 'FC',\n",
       " 'FWIW',\n",
       " 'FYI',\n",
       " 'GAL',\n",
       " 'GG',\n",
       " 'GN',\n",
       " 'GMTA',\n",
       " 'GR8',\n",
       " 'G9',\n",
       " 'IC',\n",
       " 'ICQ',\n",
       " 'ILU',\n",
       " 'IMHO',\n",
       " 'IMO',\n",
       " 'IOW',\n",
       " 'IRL',\n",
       " 'KISS',\n",
       " 'LDR',\n",
       " 'LMAO',\n",
       " 'LOL',\n",
       " 'LTNS',\n",
       " 'L8R',\n",
       " 'MTE',\n",
       " 'M8',\n",
       " 'NRN',\n",
       " 'OIC',\n",
       " 'PITA',\n",
       " 'PRT',\n",
       " 'PRW',\n",
       " 'ROFL',\n",
       " 'ROFLOL',\n",
       " 'ROTFLMAO',\n",
       " 'SK8',\n",
       " 'STATS',\n",
       " 'ASL',\n",
       " 'THX',\n",
       " 'TTFN',\n",
       " 'TTYL',\n",
       " 'U',\n",
       " 'U2',\n",
       " 'U4E',\n",
       " 'WB',\n",
       " 'WTF',\n",
       " 'WTG',\n",
       " 'WUF',\n",
       " 'W8',\n",
       " '7K']"
      ]
     },
     "execution_count": 248,
     "metadata": {},
     "output_type": "execute_result"
    }
   ],
   "source": [
    "chatwords"
   ]
  },
  {
   "cell_type": "code",
   "execution_count": 249,
   "id": "618917bb-dbe1-4067-b0a6-6de9394b2030",
   "metadata": {},
   "outputs": [
    {
     "data": {
      "text/plain": [
       "{'AFAIK': 'As Far As I Know',\n",
       " 'AFK': 'Away From Keyboard',\n",
       " 'ASAP': 'As Soon As Possible',\n",
       " 'ATK': 'At The Keyboard',\n",
       " 'ATM': 'At The Moment',\n",
       " 'A3': 'Anytime, Anywhere, Anyplace',\n",
       " 'BAK': 'Back At Keyboard',\n",
       " 'BBL': 'Be Back Later',\n",
       " 'BBS': 'Be Back Soon',\n",
       " 'BFN': 'Bye For Now',\n",
       " 'B4N': 'Bye For Now',\n",
       " 'BRB': 'Be Right Back',\n",
       " 'BRT': 'Be Right There',\n",
       " 'BTW': 'By The Way',\n",
       " 'B4': 'Before',\n",
       " 'CU': 'See You',\n",
       " 'CUL8R': 'See You Later',\n",
       " 'CYA': 'See You',\n",
       " 'FAQ': 'Frequently Asked Questions',\n",
       " 'FC': 'Fingers Crossed',\n",
       " 'FWIW': \"For What It's Worth\",\n",
       " 'FYI': 'For Your Information',\n",
       " 'GAL': 'Get A Life',\n",
       " 'GG': 'Good Game',\n",
       " 'GN': 'Good Night',\n",
       " 'GMTA': 'Great Minds Think Alike',\n",
       " 'GR8': 'Great!',\n",
       " 'G9': 'Genius',\n",
       " 'IC': 'I See',\n",
       " 'ICQ': 'I Seek you (also a chat program)',\n",
       " 'ILU': 'ILU: I Love You',\n",
       " 'IMHO': 'In My Honest/Humble Opinion',\n",
       " 'IMO': 'In My Opinion',\n",
       " 'IOW': 'In Other Words',\n",
       " 'IRL': 'In Real Life',\n",
       " 'KISS': 'Keep It Simple, Stupid',\n",
       " 'LDR': 'Long Distance Relationship',\n",
       " 'LMAO': 'Laugh My A.. Off',\n",
       " 'LOL': 'Laughing Out Loud',\n",
       " 'LTNS': 'Long Time No See',\n",
       " 'L8R': 'Later',\n",
       " 'MTE': 'My Thoughts Exactly',\n",
       " 'M8': 'Mate',\n",
       " 'NRN': 'No Reply Necessary',\n",
       " 'OIC': 'Oh I See',\n",
       " 'PITA': 'Pain In The A..',\n",
       " 'PRT': 'Party',\n",
       " 'PRW': 'Parents Are Watching',\n",
       " 'ROFL': 'Rolling On The Floor Laughing',\n",
       " 'ROFLOL': 'Rolling On The Floor Laughing Out Loud',\n",
       " 'ROTFLMAO': 'Rolling On The Floor Laughing My A.. Off',\n",
       " 'SK8': 'Skate',\n",
       " 'STATS': 'Your sex and age',\n",
       " 'ASL': 'Age, Sex, Location',\n",
       " 'THX': 'Thank You',\n",
       " 'TTFN': 'Ta-Ta For Now!',\n",
       " 'TTYL': 'Talk To You Later',\n",
       " 'U': 'You',\n",
       " 'U2': 'You Too',\n",
       " 'U4E': 'Yours For Ever',\n",
       " 'WB': 'Welcome Back',\n",
       " 'WTF': 'What The F...',\n",
       " 'WTG': 'Way To Go!',\n",
       " 'WUF': 'Where Are You From?',\n",
       " 'W8': 'Wait...',\n",
       " '7K': 'Sick:-D Laugher'}"
      ]
     },
     "execution_count": 249,
     "metadata": {},
     "output_type": "execute_result"
    }
   ],
   "source": [
    "chatwords_map"
   ]
  },
  {
   "cell_type": "code",
   "execution_count": null,
   "id": "10eaee45-5cb6-48e5-ac91-49a306686d9f",
   "metadata": {},
   "outputs": [],
   "source": []
  }
 ],
 "metadata": {
  "kernelspec": {
   "display_name": "Python 3 (ipykernel)",
   "language": "python",
   "name": "python3"
  },
  "language_info": {
   "codemirror_mode": {
    "name": "ipython",
    "version": 3
   },
   "file_extension": ".py",
   "mimetype": "text/x-python",
   "name": "python",
   "nbconvert_exporter": "python",
   "pygments_lexer": "ipython3",
   "version": "3.10.9"
  }
 },
 "nbformat": 4,
 "nbformat_minor": 5
}
