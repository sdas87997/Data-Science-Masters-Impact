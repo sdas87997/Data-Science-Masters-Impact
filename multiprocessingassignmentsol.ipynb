{
 "cells": [
  {
   "cell_type": "code",
   "execution_count": null,
   "id": "7d7235a9-0373-489e-8f89-e8d321a59e91",
   "metadata": {},
   "outputs": [],
   "source": [
    "Q1. What is multiprocessing in python? Why is it useful?\n",
    "Ans:- Multiprocessing refers to the ability of a system to support more than one processor at the same time. \n",
    "Applications in a multiprocessing system are broken to smaller routines that run independently.\n",
    "The operating system allocates these threads to the processors improving performance of the system\n",
    "A multiprocessing system can have:\n",
    "multiprocessor, i.e. a computer with more than one central processor.\n",
    "multi-core processor, i.e. a single computing component with two or more independent actual processing units (called “cores”).\n",
    "Here, the CPU can easily executes several tasks at once, with each task using its own processor.\n",
    "\n",
    "The advantages of the multiprocessing system are: Increased Throughput − By increasing the number of processors, \n",
    "more work can be completed in a unit time. Cost Saving − Parallel system shares the memory, buses, peripherals etc. \n",
    "Multiprocessor system thus saves money as compared to multiple single systems."
   ]
  },
  {
   "cell_type": "code",
   "execution_count": null,
   "id": "6396c331-de25-42ed-9bd0-2822a38fee59",
   "metadata": {},
   "outputs": [],
   "source": [
    "Q2. What are the differences between multiprocessing and multithreading?\n",
    "Ans:- Differences between Multiprocessing  and Multithreading are:-\n",
    "1.In Multiprocessing, CPUs are added for increasing computing power.\n",
    "While In Multithreading, many threads are created of a single process for increasing computing power.\n",
    "2.In Multiprocessing, Many processes are executed simultaneously.\n",
    "While in multithreading, many threads of a process are executed simultaneously.\n",
    "3.Multiprocessing are classified into Symmetric and Asymmetric.\n",
    "While Multithreading is not classified in any categories.\n",
    "4.In Multiprocessing, Process creation is a time-consuming process\n",
    ".While in Multithreading, process creation is according to economical.\n",
    "5.In Multiprocessing, every process owned a separate address space.\n",
    "While in Multithreading, a common address space is shared by all the threads."
   ]
  },
  {
   "cell_type": "code",
   "execution_count": null,
   "id": "4e3e0c3a-1fbb-4fce-88cc-041f4d1cd607",
   "metadata": {},
   "outputs": [],
   "source": [
    "Q3. Write a python code to create a process using the multiprocessing module.\n",
    "ans:- \n",
    "import multiprocessing\n",
    "def test():\n",
    "    print(\"this is child process\")\n",
    "if __name__ == \"__main__\":\n",
    "    m = multiprocessing.Process(target=test)\n",
    "    print(\"this is my main process\")\n",
    "    m.start()\n",
    "    m.join()"
   ]
  },
  {
   "cell_type": "code",
   "execution_count": null,
   "id": "f50e52e6-71ee-46f3-a969-d95ea32e32c2",
   "metadata": {},
   "outputs": [],
   "source": [
    "Q4. What is a multiprocessing pool in python? Why is it used?\n",
    "Ans:-\n",
    "multiprocessing is a package that supports spawning processes using an API similar to the threading module. \n",
    "The multiprocessing package offers both local and remote concurrency, effectively side-stepping the Global Interpreter Lock by using\n",
    "subprocesses instead of threads. Due to this, the multiprocessing module allows the programmer to fully leverage multiple processors\n",
    "on a given machine. It runs on both Unix and Windows.\n",
    "The multiprocessing module also introduces APIs which do not have analogs in the threading module.\n",
    "A prime example of this is the Pool object which offers a convenient means of parallelizing the execution of \n",
    "a function across multiple input values, distributing the input data across processes (data parallelism)."
   ]
  },
  {
   "cell_type": "code",
   "execution_count": null,
   "id": "aa99f408-929a-40fa-9907-5d5d88604f97",
   "metadata": {},
   "outputs": [],
   "source": [
    "Q5. How can we create a pool of worker processes in python using the multiprocessing module?\n",
    "ans:-\n",
    "The pool of worker processes can be craeted by  this pool method and signifying the number to proces attribute of the function\n",
    "multiprocessing.Pool(processes=<n number of processes that we want to create>),for example\n",
    "def square(n):\n",
    "    print(n)\n",
    "    return n**2\n",
    "if __name__ == '__main__':\n",
    "    with multiprocessing.Pool(processes=5) as pool :\n",
    "        out =pool.map(square , [3,4,5,6,6,7,87,8,8])\n",
    "        print(out)\n",
    "        \n",
    "here we have generated 5 worker or child processes"
   ]
  },
  {
   "cell_type": "code",
   "execution_count": 4,
   "id": "17c2b4e5-5461-4675-a7c3-af89ae2f924b",
   "metadata": {},
   "outputs": [],
   "source": [
    "Q6. Write a python program to create 4 processes, each process should print a different number using the\n",
    "multiprocessing module in python.\n",
    "ans:-\n",
    "import multiprocessing\n",
    "def print_num(n):\n",
    "    print(\"the number is:- \",n)\n",
    "  \n",
    "\n",
    "if __name__ == '__main__':\n",
    "    p1 = multiprocessing.Process(target = print_num,args =(1,))\n",
    "    p2 = multiprocessing.Process(target = print_num,args =(2,))\n",
    "    p3 = multiprocessing.Process(target = print_num,args =(3,))\n",
    "    p4 = multiprocessing.Process(target = print_num,args =(4,))\n",
    "       \n",
    "    p1.start()   \n",
    "    p2.start()   \n",
    "    p3.start()   \n",
    "    p4.start()   \n",
    "    \n",
    "    p1.join()   \n",
    "    p2.join()   \n",
    "    p3.join()   \n",
    "    p4.join()\n",
    "    "
   ]
  },
  {
   "cell_type": "code",
   "execution_count": null,
   "id": "7c5f4fd1-fed7-4bab-a8b8-288268f1c908",
   "metadata": {},
   "outputs": [],
   "source": []
  }
 ],
 "metadata": {
  "kernelspec": {
   "display_name": "Python 3 (ipykernel)",
   "language": "python",
   "name": "python3"
  },
  "language_info": {
   "codemirror_mode": {
    "name": "ipython",
    "version": 3
   },
   "file_extension": ".py",
   "mimetype": "text/x-python",
   "name": "python",
   "nbconvert_exporter": "python",
   "pygments_lexer": "ipython3",
   "version": "3.10.9"
  }
 },
 "nbformat": 4,
 "nbformat_minor": 5
}
