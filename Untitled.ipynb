{
 "cells": [
  {
   "cell_type": "code",
   "execution_count": 7,
   "id": "483bbc8f-f55e-4930-8ed8-30eba5825c85",
   "metadata": {},
   "outputs": [
    {
     "name": "stdin",
     "output_type": "stream",
     "text": [
      "enter the product price 3300\n"
     ]
    },
    {
     "name": "stdout",
     "output_type": "stream",
     "text": [
      "you are eligible for 20% discount ,updated price : 2640.0\n",
      "you just missed the goa trip by 700 rupeess\n"
     ]
    }
   ],
   "source": [
    "product_price = int(input(\"enter the product price\"))\n",
    "if product_price > 3000:\n",
    "    if product_price  >=  4000:\n",
    "        print(\"you ar eligible for goa trip\")\n",
    "        print(f\"you are eligible for 20% discount ,updated price : {product_price*0.8}\")\n",
    "    else:\n",
    "            print(f\"you are eligible for 20% discount ,updated price : {product_price*0.8}\")\n",
    "            print(f\"you just missed the goa trip by {4000 - product_price} rupeess\")\n",
    "\n",
    "elif product_price >= 2000 and product_price <= 3000:\n",
    "    print(f\"you are eligible for 30% discount ,updated price{product_price*0.7}\")\n",
    "    if product_price == 2999:\n",
    "         print(\"you are eligible forCoupon\")\n",
    "elif product_price >= 1000 and product_price <= 2000:\n",
    "    print(f\"you are eligible for 40% discount ,updated price{product_price*0.6}\")\n",
    "else:\n",
    "    print(f\"you are not eligible for  discount ,updated price{product_price}\")\n",
    "    \n",
    "   "
   ]
  },
  {
   "cell_type": "code",
   "execution_count": 9,
   "id": "8f7d12e6-a783-4663-bdda-34e7d84cdbd9",
   "metadata": {},
   "outputs": [
    {
     "name": "stdin",
     "output_type": "stream",
     "text": [
      "enter the value 900\n"
     ]
    },
    {
     "name": "stdout",
     "output_type": "stream",
     "text": [
      "value is less than 1000\n"
     ]
    }
   ],
   "source": [
    "val = int(input(\"enter the value\"))\n",
    "if(val <= 999): print(\"value is less than 1000\")\n",
    "else: print(\"value is greater than 1000\")"
   ]
  },
  {
   "cell_type": "code",
   "execution_count": null,
   "id": "06f51081-c947-4376-955c-2ee89324aae8",
   "metadata": {},
   "outputs": [],
   "source": [
    "3500\n"
   ]
  }
 ],
 "metadata": {
  "kernelspec": {
   "display_name": "Python 3 (ipykernel)",
   "language": "python",
   "name": "python3"
  },
  "language_info": {
   "codemirror_mode": {
    "name": "ipython",
    "version": 3
   },
   "file_extension": ".py",
   "mimetype": "text/x-python",
   "name": "python",
   "nbconvert_exporter": "python",
   "pygments_lexer": "ipython3",
   "version": "3.10.8"
  }
 },
 "nbformat": 4,
 "nbformat_minor": 5
}
