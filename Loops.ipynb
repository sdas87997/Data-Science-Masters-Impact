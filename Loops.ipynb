{
 "cells": [
  {
   "cell_type": "markdown",
   "id": "23e4e2e0-65cc-48f0-b951-888b51bd46a1",
   "metadata": {},
   "source": [
    "Loop Statements while loop for loop nested loop loop controls( break continue pass"
   ]
  },
  {
   "cell_type": "code",
   "execution_count": 1,
   "id": "2aebf9a1-5fa1-477e-8ddb-e7ea5a4adf1a",
   "metadata": {},
   "outputs": [
    {
     "data": {
      "text/plain": [
       "123"
      ]
     },
     "execution_count": 1,
     "metadata": {},
     "output_type": "execute_result"
    }
   ],
   "source": [
    "123\n"
   ]
  },
  {
   "cell_type": "code",
   "execution_count": 6,
   "id": "4906d255-9fcb-4b4e-9223-112ed2af4f89",
   "metadata": {},
   "outputs": [
    {
     "name": "stdout",
     "output_type": "stream",
     "text": [
      "if i work till  :26 years age then i will get 8000 as retirement amouny\n",
      "if i work till  :27 years age then i will get 16000 as retirement amouny\n",
      "if i work till  :28 years age then i will get 24000 as retirement amouny\n",
      "if i work till  :29 years age then i will get 32000 as retirement amouny\n",
      "if i work till  :30 years age then i will get 40000 as retirement amouny\n",
      "if i work till  :31 years age then i will get 48000 as retirement amouny\n",
      "if i work till  :32 years age then i will get 56000 as retirement amouny\n",
      "if i work till  :33 years age then i will get 64000 as retirement amouny\n",
      "if i work till  :34 years age then i will get 72000 as retirement amouny\n",
      "if i work till  :35 years age then i will get 80000 as retirement amouny\n",
      "if i work till  :36 years age then i will get 88000 as retirement amouny\n",
      "if i work till  :37 years age then i will get 96000 as retirement amouny\n",
      "if i work till  :38 years age then i will get 104000 as retirement amouny\n",
      "if i work till  :39 years age then i will get 112000 as retirement amouny\n",
      "if i work till  :40 years age then i will get 120000 as retirement amouny\n",
      "if i work till  :41 years age then i will get 128000 as retirement amouny\n",
      "if i work till  :42 years age then i will get 136000 as retirement amouny\n",
      "if i work till  :43 years age then i will get 144000 as retirement amouny\n",
      "if i work till  :44 years age then i will get 152000 as retirement amouny\n",
      "if i work till  :45 years age then i will get 160000 as retirement amouny\n",
      "if i work till  :46 years age then i will get 168000 as retirement amouny\n",
      "if i work till  :47 years age then i will get 176000 as retirement amouny\n",
      "if i work till  :48 years age then i will get 184000 as retirement amouny\n",
      "if i work till  :49 years age then i will get 192000 as retirement amouny\n",
      "if i work till  :50 years age then i will get 200000 as retirement amouny\n",
      "if i work till  :51 years age then i will get 208000 as retirement amouny\n",
      "if i work till  :52 years age then i will get 216000 as retirement amouny\n",
      "if i work till  :53 years age then i will get 224000 as retirement amouny\n",
      "if i work till  :54 years age then i will get 232000 as retirement amouny\n",
      "if i work till  :55 years age then i will get 240000 as retirement amouny\n",
      "if i work till  :56 years age then i will get 248000 as retirement amouny\n",
      "if i work till  :57 years age then i will get 256000 as retirement amouny\n",
      "if i work till  :58 years age then i will get 264000 as retirement amouny\n",
      "if i work till  :59 years age then i will get 272000 as retirement amouny\n",
      "if i work till  :60 years age then i will get 280000 as retirement amouny\n",
      "if i work till  :61 years age then i will get 288000 as retirement amouny\n",
      " 61 is time for retirement\n"
     ]
    }
   ],
   "source": [
    "joining_age = 25\n",
    "retirement_sum = 0\n",
    "while joining_age <= 60:\n",
    "    joining_age =  joining_age +1;\n",
    "    retirement_sum = retirement_sum + 8000\n",
    "    print(f\"if i work till  :{joining_age} years age then i will get {retirement_sum} as retirement amouny\")\n",
    "else:\n",
    "    print(f\" {joining_age} is time for retirement\")"
   ]
  },
  {
   "cell_type": "code",
   "execution_count": 9,
   "id": "43776977-33f5-4c74-a1f5-8a51067e4786",
   "metadata": {},
   "outputs": [
    {
     "name": "stdout",
     "output_type": "stream",
     "text": [
      "1000\n",
      "900\n",
      "800\n",
      "700\n",
      "600\n",
      "500\n",
      "400\n",
      "300\n",
      "200\n",
      "100\n",
      "poisa bhor\n"
     ]
    }
   ],
   "source": [
    "#Bank atm\n",
    "total_amt = 1000\n",
    "while total_amt != 0:\n",
    "    print(total_amt)\n",
    "    total_amt = total_amt -100\n",
    "else:\n",
    "    print(\"poisa bhor\")\n",
    "    \n"
   ]
  },
  {
   "cell_type": "code",
   "execution_count": 74,
   "id": "d8bdcd61-ed2e-489e-af14-415bf4a735ed",
   "metadata": {},
   "outputs": [
    {
     "name": "stdout",
     "output_type": "stream",
     "text": [
      "Mango\n",
      "cherry\n",
      "Mango found  fruit is cherry\n"
     ]
    }
   ],
   "source": [
    "fruits_list = [\"Mango\",\"cherry\",\"apple\",\"banana\",\"papaya\"]\n",
    "for x in fruits_list:\n",
    "    print(x)  \n",
    "    if x == \"cherry\":\n",
    "        print(\"Mango found  fruit is\",x)\n",
    "        break;\n",
    "   "
   ]
  },
  {
   "cell_type": "code",
   "execution_count": 77,
   "id": "60e0e783-4ee6-460e-ae7f-24e26dde6065",
   "metadata": {},
   "outputs": [
    {
     "name": "stdout",
     "output_type": "stream",
     "text": [
      "Mango"
     ]
    }
   ],
   "source": [
    "valye =  \"Mango\"\n",
    "for x in valye:\n",
    "     print(x , end=\"\")"
   ]
  },
  {
   "cell_type": "code",
   "execution_count": null,
   "id": "627fa1e2-9630-4b79-9031-4204f4a5118f",
   "metadata": {},
   "outputs": [],
   "source": [
    "range()"
   ]
  },
  {
   "cell_type": "code",
   "execution_count": 81,
   "id": "f0ad355c-1060-4b66-b9fb-11b0e8106d9b",
   "metadata": {},
   "outputs": [
    {
     "name": "stdout",
     "output_type": "stream",
     "text": [
      "1\n",
      "4\n",
      "7\n"
     ]
    }
   ],
   "source": [
    "for i in range(1,10,3):\n",
    "     print(i)"
   ]
  },
  {
   "cell_type": "code",
   "execution_count": 110,
   "id": "b74f6d2b-bef4-43e0-94ae-f40809f21229",
   "metadata": {},
   "outputs": [
    {
     "name": "stdout",
     "output_type": "stream",
     "text": [
      "*\n",
      "**\n",
      "***\n",
      "****\n",
      "*****\n",
      "******\n",
      "*******\n"
     ]
    }
   ],
   "source": [
    "n= 7;\n",
    "for i in range(0,n):\n",
    "    for j in range(0,i+1):\n",
    "         print(\"*\", end=\"\")\n",
    "    print(\"\\r\")\n",
    "            "
   ]
  },
  {
   "cell_type": "code",
   "execution_count": 111,
   "id": "93c3f94e-3596-4814-b497-7546b53f5e4a",
   "metadata": {},
   "outputs": [],
   "source": [
    "fruits_list = [\"mango\",\"cherry\",\"apple\",\"banana\",\"papaya\"]"
   ]
  },
  {
   "cell_type": "code",
   "execution_count": 121,
   "id": "ca28d22b-e516-4ad0-9f4f-7e2cc89cfbc1",
   "metadata": {},
   "outputs": [
    {
     "name": "stdout",
     "output_type": "stream",
     "text": [
      "mango\n",
      "cherry\n",
      "apple\n",
      "apple found\n",
      "banana\n",
      "papaya\n"
     ]
    }
   ],
   "source": [
    "for i in fruits_list:\n",
    "    print(i)\n",
    "    if i==\"apple\":\n",
    "        print(\"apple found\")\n",
    "        pass\n",
    "        \n",
    "    "
   ]
  },
  {
   "cell_type": "code",
   "execution_count": null,
   "id": "ae737202-e133-40b7-8030-b4aea09a0fdc",
   "metadata": {},
   "outputs": [],
   "source": []
  }
 ],
 "metadata": {
  "kernelspec": {
   "display_name": "Python 3 (ipykernel)",
   "language": "python",
   "name": "python3"
  },
  "language_info": {
   "codemirror_mode": {
    "name": "ipython",
    "version": 3
   },
   "file_extension": ".py",
   "mimetype": "text/x-python",
   "name": "python",
   "nbconvert_exporter": "python",
   "pygments_lexer": "ipython3",
   "version": "3.10.8"
  }
 },
 "nbformat": 4,
 "nbformat_minor": 5
}
